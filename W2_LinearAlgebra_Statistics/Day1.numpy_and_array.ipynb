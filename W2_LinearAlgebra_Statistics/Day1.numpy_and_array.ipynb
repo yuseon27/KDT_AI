{
 "cells": [
  {
   "cell_type": "markdown",
   "id": "378792a3",
   "metadata": {},
   "source": [
    "## 1. Numpy 시작하기"
   ]
  },
  {
   "cell_type": "markdown",
   "id": "827372e0",
   "metadata": {},
   "source": [
    "### Remind : 리스트"
   ]
  },
  {
   "cell_type": "code",
   "execution_count": 1,
   "id": "ba83f860",
   "metadata": {},
   "outputs": [
    {
     "name": "stdout",
     "output_type": "stream",
     "text": [
      "[1, 'two', 3.0]\n"
     ]
    }
   ],
   "source": [
    "arr = [1, \"two\", 3.0]\n",
    "print(arr)\n",
    "## List는 연산이 느림!!!"
   ]
  },
  {
   "cell_type": "markdown",
   "id": "9db651fa",
   "metadata": {},
   "source": [
    "### numpy 모듈 불러오기"
   ]
  },
  {
   "cell_type": "code",
   "execution_count": 2,
   "id": "b66d464b",
   "metadata": {},
   "outputs": [],
   "source": [
    "import numpy as np"
   ]
  },
  {
   "cell_type": "markdown",
   "id": "b3ef3171",
   "metadata": {},
   "source": [
    "### 왜 numpy를 사용해야 할까요?"
   ]
  },
  {
   "cell_type": "markdown",
   "id": "761dbad3",
   "metadata": {},
   "source": [
    "**List**"
   ]
  },
  {
   "cell_type": "code",
   "execution_count": 3,
   "id": "8ba3a027",
   "metadata": {},
   "outputs": [
    {
     "name": "stdout",
     "output_type": "stream",
     "text": [
      "288 µs ± 4.33 µs per loop (mean ± std. dev. of 7 runs, 1000 loops each)\n"
     ]
    }
   ],
   "source": [
    "L = range(1000)\n",
    "%timeit [i**2 for i in L]  ## %timeit을 사용하면 해당 코드의 실행 시간을 알 수 있다.(주피터만 가능?!)"
   ]
  },
  {
   "cell_type": "markdown",
   "id": "c479c08a",
   "metadata": {},
   "source": [
    "**numpy.array**"
   ]
  },
  {
   "cell_type": "code",
   "execution_count": 4,
   "id": "c723d868",
   "metadata": {},
   "outputs": [
    {
     "name": "stdout",
     "output_type": "stream",
     "text": [
      "912 ns ± 4.9 ns per loop (mean ± std. dev. of 7 runs, 1000000 loops each)\n"
     ]
    }
   ],
   "source": [
    "N = np.arange(1000)\n",
    "%timeit N**2"
   ]
  },
  {
   "cell_type": "markdown",
   "id": "da59a1d1",
   "metadata": {},
   "source": [
    "### numpy.array\n",
    "\n",
    "numpy의 Container, array"
   ]
  },
  {
   "cell_type": "code",
   "execution_count": 6,
   "id": "7ceea5ee",
   "metadata": {},
   "outputs": [
    {
     "data": {
      "text/plain": [
       "array([1, 2, 3])"
      ]
     },
     "execution_count": 6,
     "metadata": {},
     "output_type": "execute_result"
    }
   ],
   "source": [
    "arr = np.array([1, 2, 3])\n",
    "arr"
   ]
  },
  {
   "cell_type": "code",
   "execution_count": 9,
   "id": "464335f9",
   "metadata": {},
   "outputs": [
    {
     "data": {
      "text/plain": [
       "array([[ 1,  2,  3],\n",
       "       [ 4,  5,  6],\n",
       "       [ 7,  8,  9],\n",
       "       [10, 11, 12]])"
      ]
     },
     "execution_count": 9,
     "metadata": {},
     "output_type": "execute_result"
    }
   ],
   "source": [
    "arr_2d = np.array([[1,2,3],[4, 5, 6], [7, 8, 9], [10, 11, 12]])\n",
    "arr_2d"
   ]
  },
  {
   "cell_type": "code",
   "execution_count": 10,
   "id": "85c77871",
   "metadata": {},
   "outputs": [
    {
     "data": {
      "text/plain": [
       "(3,)"
      ]
     },
     "execution_count": 10,
     "metadata": {},
     "output_type": "execute_result"
    }
   ],
   "source": [
    "arr.shape"
   ]
  },
  {
   "cell_type": "code",
   "execution_count": 11,
   "id": "a7890e43",
   "metadata": {},
   "outputs": [
    {
     "data": {
      "text/plain": [
       "(4, 3)"
      ]
     },
     "execution_count": 11,
     "metadata": {},
     "output_type": "execute_result"
    }
   ],
   "source": [
    "arr_2d.shape"
   ]
  }
 ],
 "metadata": {
  "kernelspec": {
   "display_name": "Python 3",
   "language": "python",
   "name": "python3"
  },
  "language_info": {
   "codemirror_mode": {
    "name": "ipython",
    "version": 3
   },
   "file_extension": ".py",
   "mimetype": "text/x-python",
   "name": "python",
   "nbconvert_exporter": "python",
   "pygments_lexer": "ipython3",
   "version": "3.9.4"
  }
 },
 "nbformat": 4,
 "nbformat_minor": 5
}
