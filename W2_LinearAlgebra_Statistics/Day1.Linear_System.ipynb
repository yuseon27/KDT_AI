{
 "cells": [
  {
   "cell_type": "markdown",
   "id": "e6514c40",
   "metadata": {},
   "source": [
    "# 인공지능 수학 - 선형대수 (NumPy 실습)\n",
    "## 행렬과 벡터의 코딩 및 연산"
   ]
  },
  {
   "cell_type": "markdown",
   "id": "f69189b8",
   "metadata": {},
   "source": [
    "#### Equation\n",
    "3x +  y + z = 4  \n",
    "x  - 2y - z = 1  \n",
    "x  +  y + x = 1  "
   ]
  },
  {
   "cell_type": "code",
   "execution_count": 1,
   "id": "3502b440",
   "metadata": {},
   "outputs": [],
   "source": [
    "import numpy as np"
   ]
  },
  {
   "cell_type": "code",
   "execution_count": 2,
   "id": "72deaa19",
   "metadata": {},
   "outputs": [
    {
     "name": "stdout",
     "output_type": "stream",
     "text": [
      "[[ 3  1  1]\n",
      " [ 1 -2 -1]\n",
      " [ 1  1  1]]\n",
      "(3, 3) (3, 3)\n"
     ]
    }
   ],
   "source": [
    "# 행렬 코딩 : 왼->오\n",
    "A = np.array([[3, 1, 1], [1, -2, -1], [1, 1, 1]])\n",
    "\n",
    "print(A)\n",
    "print(A.shape, np.shape(A))"
   ]
  },
  {
   "cell_type": "code",
   "execution_count": 3,
   "id": "24e0b710",
   "metadata": {},
   "outputs": [
    {
     "name": "stdout",
     "output_type": "stream",
     "text": [
      "[4 1 2]\n",
      "(3,)\n"
     ]
    }
   ],
   "source": [
    "# 벡터 코딩 : 위->아래\n",
    "b = np.array([4, 1, 2])\n",
    "\n",
    "print(b)\n",
    "print(b.shape)"
   ]
  },
  {
   "cell_type": "code",
   "execution_count": 4,
   "id": "16904580",
   "metadata": {},
   "outputs": [
    {
     "name": "stdout",
     "output_type": "stream",
     "text": [
      "[[ 5.00000000e-01 -7.40148683e-17 -5.00000000e-01]\n",
      " [ 1.00000000e+00 -1.00000000e+00 -2.00000000e+00]\n",
      " [-1.50000000e+00  1.00000000e+00  3.50000000e+00]]\n",
      "(3, 3)\n"
     ]
    }
   ],
   "source": [
    "# 역행렬 구하기\n",
    "A_inv = np.linalg.inv(A)\n",
    "\n",
    "print(A_inv)\n",
    "print(A_inv.shape)"
   ]
  },
  {
   "cell_type": "code",
   "execution_count": 5,
   "id": "74897bc6",
   "metadata": {},
   "outputs": [
    {
     "name": "stdout",
     "output_type": "stream",
     "text": [
      "[ 1. -1.  2.]\n",
      "(3,)\n"
     ]
    }
   ],
   "source": [
    "# 역행렬을 이용한 선형 시스템 Ax=b의 해 구하기\n",
    "x = A_inv @ b\n",
    "\n",
    "print(x)\n",
    "print(x.shape)"
   ]
  },
  {
   "cell_type": "code",
   "execution_count": 6,
   "id": "e3dac439",
   "metadata": {},
   "outputs": [
    {
     "name": "stdout",
     "output_type": "stream",
     "text": [
      "[4. 1. 2.]\n",
      "(3,)\n"
     ]
    }
   ],
   "source": [
    "# 결과 검증\n",
    "# bb = np.matmul(A, x)\n",
    "bb = A @ x\n",
    "\n",
    "print(bb)\n",
    "print(bb.shape)"
   ]
  },
  {
   "cell_type": "code",
   "execution_count": 8,
   "id": "a3a6f503",
   "metadata": {},
   "outputs": [
    {
     "name": "stdout",
     "output_type": "stream",
     "text": [
      "OK\n"
     ]
    }
   ],
   "source": [
    "# 크기 비교\n",
    "if np.linalg.norm(b - bb) < 1e-3 :\n",
    "    print(\"OK\")\n",
    "else : print(\"Something Wrong\")"
   ]
  }
 ],
 "metadata": {
  "kernelspec": {
   "display_name": "Python 3",
   "language": "python",
   "name": "python3"
  },
  "language_info": {
   "codemirror_mode": {
    "name": "ipython",
    "version": 3
   },
   "file_extension": ".py",
   "mimetype": "text/x-python",
   "name": "python",
   "nbconvert_exporter": "python",
   "pygments_lexer": "ipython3",
   "version": "3.9.4"
  }
 },
 "nbformat": 4,
 "nbformat_minor": 5
}
