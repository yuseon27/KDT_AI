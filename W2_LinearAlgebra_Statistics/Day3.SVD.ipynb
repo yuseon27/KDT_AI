{
 "cells": [
  {
   "cell_type": "markdown",
   "metadata": {
    "id": "avi-EXcIa6gS"
   },
   "source": [
    "# SVD"
   ]
  },
  {
   "cell_type": "code",
   "execution_count": 1,
   "metadata": {
    "id": "dQa0lGJnbH9u"
   },
   "outputs": [],
   "source": [
    "import numpy as np"
   ]
  },
  {
   "cell_type": "code",
   "execution_count": 2,
   "metadata": {
    "id": "2SOcUB5Qa6Xw"
   },
   "outputs": [
    {
     "name": "stdout",
     "output_type": "stream",
     "text": [
      "A:\n",
      "[[ 1  1]\n",
      " [-2  2]\n",
      " [-1 -1]]\n"
     ]
    }
   ],
   "source": [
    "A = np.array([[1, 1], [-2, 2], [-1, -1]])\n",
    "\n",
    "print(\"A:\")\n",
    "print(A)"
   ]
  },
  {
   "cell_type": "code",
   "execution_count": 3,
   "metadata": {
    "id": "XfghmJpIa6UJ"
   },
   "outputs": [
    {
     "name": "stdout",
     "output_type": "stream",
     "text": [
      "U:\n",
      "[[ 0.70721358  0.          0.70721358]\n",
      " [ 0.          1.          0.        ]\n",
      " [-0.70721358  0.          0.70721358]]\n",
      "UU:\n",
      "[[ 0.70721358]\n",
      " [ 0.        ]\n",
      " [-0.70721358]]\n"
     ]
    }
   ],
   "source": [
    "U = np.array([[1/1.414, 0, 1/1.414], [0, 1, 0], [-1/1.414, 0, 1/1.414]])\n",
    "\n",
    "UU = U[:,:1]\n",
    "\n",
    "print(\"U:\")\n",
    "print(U)\n",
    "print(\"UU:\")\n",
    "print(UU)"
   ]
  },
  {
   "cell_type": "code",
   "execution_count": 4,
   "metadata": {
    "id": "KNN45vGga6Q4"
   },
   "outputs": [
    {
     "name": "stdout",
     "output_type": "stream",
     "text": [
      "D\n",
      "[[4.         0.        ]\n",
      " [0.         0.70721358]\n",
      " [0.         0.        ]]\n",
      "DD\n",
      "[[4.]]\n"
     ]
    }
   ],
   "source": [
    "D = np.array([[4, 0], [0, 1/1.414], [0, 0]])\n",
    "\n",
    "DD = D[:1,:1]\n",
    "\n",
    "print(\"D\")\n",
    "print(D)\n",
    "\n",
    "print(\"DD\")\n",
    "print(DD)"
   ]
  },
  {
   "cell_type": "code",
   "execution_count": 5,
   "metadata": {
    "id": "yCnrzLTMa6N-"
   },
   "outputs": [
    {
     "name": "stdout",
     "output_type": "stream",
     "text": [
      "Vt\n",
      "[[ 0.70721358  0.70721358]\n",
      " [-0.70721358  0.70721358]]\n",
      "VVt\n",
      "[[0.70721358 0.70721358]]\n"
     ]
    }
   ],
   "source": [
    "Vt = np.array([[1/1.414, 1/1.414], [-1/1.414, 1/1.414]])\n",
    "\n",
    "VVt = Vt[:1,:]\n",
    "\n",
    "print(\"Vt\")\n",
    "print(Vt)\n",
    "\n",
    "print(\"VVt\")\n",
    "print(VVt)"
   ]
  },
  {
   "cell_type": "code",
   "execution_count": 6,
   "metadata": {
    "id": "j3arPWcNa6LG"
   },
   "outputs": [
    {
     "name": "stdout",
     "output_type": "stream",
     "text": [
      "AA\n",
      "[[ 2.00060418  2.00060418]\n",
      " [-0.50015105  0.50015105]\n",
      " [-2.00060418 -2.00060418]]\n"
     ]
    }
   ],
   "source": [
    "AA = U @ D @ Vt\n",
    "\n",
    "print(\"AA\")\n",
    "print(AA)"
   ]
  },
  {
   "cell_type": "code",
   "execution_count": 7,
   "metadata": {
    "id": "MO8h6wSya6IG"
   },
   "outputs": [
    {
     "data": {
      "text/plain": [
       "array([[ 2.00060418,  2.00060418],\n",
       "       [ 0.        ,  0.        ],\n",
       "       [-2.00060418, -2.00060418]])"
      ]
     },
     "execution_count": 7,
     "metadata": {},
     "output_type": "execute_result"
    }
   ],
   "source": [
    "UU @ DD @ VVt"
   ]
  }
 ],
 "metadata": {
  "colab": {
   "collapsed_sections": [],
   "name": "[1-8. SVD, PCA]-1",
   "provenance": []
  },
  "kernelspec": {
   "display_name": "Python 3",
   "language": "python",
   "name": "python3"
  },
  "language_info": {
   "codemirror_mode": {
    "name": "ipython",
    "version": 3
   },
   "file_extension": ".py",
   "mimetype": "text/x-python",
   "name": "python",
   "nbconvert_exporter": "python",
   "pygments_lexer": "ipython3",
   "version": "3.9.4"
  }
 },
 "nbformat": 4,
 "nbformat_minor": 1
}
