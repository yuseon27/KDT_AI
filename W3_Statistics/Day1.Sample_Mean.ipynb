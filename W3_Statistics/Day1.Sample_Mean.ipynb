{
 "cells": [
  {
   "cell_type": "code",
   "execution_count": 16,
   "id": "74106f95",
   "metadata": {},
   "outputs": [
    {
     "data": {
      "text/plain": [
       "[176, 484, 16, 295, 338, 118, 39, 250, 934, 387]"
      ]
     },
     "execution_count": 16,
     "metadata": {},
     "output_type": "execute_result"
    }
   ],
   "source": [
    "## random libarary 사용해서 랜덤 숫자 생성\n",
    "import random\n",
    "\n",
    "a = [random.randint(1, 1000) for i in range(10)]\n",
    "a"
   ]
  },
  {
   "cell_type": "code",
   "execution_count": 15,
   "id": "e09f8b94",
   "metadata": {},
   "outputs": [
    {
     "name": "stdout",
     "output_type": "stream",
     "text": [
      "mean 0.003197, var 0.103433\n"
     ]
    }
   ],
   "source": [
    "## 표본 평균의 평균과 분산\n",
    "import numpy as np\n",
    "xbars = [np.mean(np.random.normal(size = 10)) for i in range(10000)]  ## 정규분포를 따름\n",
    "print(\"mean %f, var %f\" %(np.mean(xbars), np.var(xbars)))"
   ]
  },
  {
   "cell_type": "code",
   "execution_count": 22,
   "id": "72bf8b51",
   "metadata": {},
   "outputs": [
    {
     "name": "stdout",
     "output_type": "stream",
     "text": [
      "mean 2.999565, var 0.892445\n"
     ]
    },
    {
     "data": {
      "image/png": "[encoded data removed]",
      "text/plain": [
       "<Figure size 432x288 with 1 Axes>"
      ]
     },
     "metadata": {
      "needs_background": "light"
     },
     "output_type": "display_data"
    }
   ],
   "source": [
    "## 표본 평균의 히스토그램\n",
    "xbars = [np.mean(np.random.normal(loc=3, scale=3, size = 10)) for i in range(10000)]\n",
    "print(\"mean %f, var %f\" %(np.mean(xbars), np.var(xbars)))\n",
    "\n",
    "import matplotlib.pyplot as plt\n",
    "h = plt.hist(xbars, range=(0,10), bins=30)"
   ]
  },
  {
   "cell_type": "code",
   "execution_count": 26,
   "id": "0fc38204",
   "metadata": {},
   "outputs": [
    {
     "name": "stdout",
     "output_type": "stream",
     "text": [
      "mean 4.993435, var 2.801819\n"
     ]
    },
    {
     "data": {
      "image/png": "[encoded data removed]",
      "text/plain": [
       "<Figure size 432x288 with 1 Axes>"
      ]
     },
     "metadata": {
      "needs_background": "light"
     },
     "output_type": "display_data"
    }
   ],
   "source": [
    "## 중심 극한 정리\n",
    "import numpy as np\n",
    "import matplotlib.pyplot as plt\n",
    "\n",
    "n = 3  ## 표본의 개수\n",
    "xbars = [np.mean(np.random.rand(n)*10) for i in range(10000)]  ## rand : 0-1 사이 임의의 값\n",
    "## 정규분포 : 평균 = 5, 분산 = 8.3\n",
    "print(\"mean %f, var %f\" %(np.mean(xbars), np.var(xbars)))\n",
    "h = plt.hist(xbars, range=(0,10), bins=30)"
   ]
  },
  {
   "cell_type": "code",
   "execution_count": 33,
   "id": "2dab5350",
   "metadata": {},
   "outputs": [
    {
     "name": "stdout",
     "output_type": "stream",
     "text": [
      "mean 2.981192, var 4.359557\n"
     ]
    },
    {
     "data": {
      "image/png": "[encoded data removed]",
      "text/plain": [
       "<Figure size 432x288 with 1 Axes>"
      ]
     },
     "metadata": {
      "needs_background": "light"
     },
     "output_type": "display_data"
    }
   ],
   "source": [
    "n = 2  ## 표본의 개수\n",
    "xbars = [np.mean(np.random.exponential(scale=3, size=n)) for i in range(10000)]  ## 지수분포\n",
    "## 람다  = 1/3 -> 평균 : 3, 분산 : 9\n",
    "print(\"mean %f, var %f\" %(np.mean(xbars), np.var(xbars)))\n",
    "h = plt.hist(xbars, range=(0,10), bins=100)"
   ]
  }
 ],
 "metadata": {
  "kernelspec": {
   "display_name": "Python 3",
   "language": "python",
   "name": "python3"
  },
  "language_info": {
   "codemirror_mode": {
    "name": "ipython",
    "version": 3
   },
   "file_extension": ".py",
   "mimetype": "text/x-python",
   "name": "python",
   "nbconvert_exporter": "python",
   "pygments_lexer": "ipython3",
   "version": "3.9.4"
  }
 },
 "nbformat": 4,
 "nbformat_minor": 5
}
