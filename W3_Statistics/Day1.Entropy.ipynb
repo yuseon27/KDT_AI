{
 "cells": [
  {
   "cell_type": "code",
   "execution_count": 1,
   "id": "97789320",
   "metadata": {},
   "outputs": [
    {
     "name": "stdout",
     "output_type": "stream",
     "text": [
      "0.3219280948873623\n",
      "1.0\n",
      "2.321928094887362\n"
     ]
    }
   ],
   "source": [
    "import numpy as np\n",
    "\n",
    "def crossentropy(P, Q) : #{\n",
    "    return sum([-p*np.log2(q) for p, q in zip(P, Q)])\n",
    "#}\n",
    "\n",
    "P = [1, 0]\n",
    "Q = [0.8, 0.2]\n",
    "print(crossentropy(P, Q))\n",
    "Q = [0.5, 0.5]\n",
    "print(crossentropy(P, Q))\n",
    "Q = [0.2, 0.8]\n",
    "print(crossentropy(P, Q))"
   ]
  },
  {
   "cell_type": "code",
   "execution_count": 2,
   "id": "07150931",
   "metadata": {},
   "outputs": [
    {
     "name": "stdout",
     "output_type": "stream",
     "text": [
      "0.5145731728297583\n",
      "2.321928094887362\n"
     ]
    }
   ],
   "source": [
    "P = [1, 0, 0, 0]\n",
    "Q = [0.7, 0.1, 0.1, 0.1]\n",
    "print(crossentropy(P, Q))\n",
    "\n",
    "Q = [0.2, 0.6, 0.1, 0.1]\n",
    "print(crossentropy(P, Q))"
   ]
  }
 ],
 "metadata": {
  "kernelspec": {
   "display_name": "Python 3",
   "language": "python",
   "name": "python3"
  },
  "language_info": {
   "codemirror_mode": {
    "name": "ipython",
    "version": 3
   },
   "file_extension": ".py",
   "mimetype": "text/x-python",
   "name": "python",
   "nbconvert_exporter": "python",
   "pygments_lexer": "ipython3",
   "version": "3.9.4"
  }
 },
 "nbformat": 4,
 "nbformat_minor": 5
}
