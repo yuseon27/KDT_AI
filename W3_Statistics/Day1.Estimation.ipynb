{
 "cells": [
  {
   "cell_type": "code",
   "execution_count": 1,
   "id": "5b947f75",
   "metadata": {},
   "outputs": [],
   "source": [
    "import random\n",
    "import numpy as np"
   ]
  },
  {
   "cell_type": "code",
   "execution_count": 2,
   "id": "e49ce088",
   "metadata": {},
   "outputs": [
    {
     "name": "stdout",
     "output_type": "stream",
     "text": [
      "4.6\n"
     ]
    }
   ],
   "source": [
    "# 모평균의 점추정\n",
    "samples = [9, 4, 0, 8, 1, 3, 7, 8, 4, 2]\n",
    "print(np.mean(samples))"
   ]
  },
  {
   "cell_type": "code",
   "execution_count": 7,
   "id": "a5b880ee",
   "metadata": {},
   "outputs": [
    {
     "name": "stdout",
     "output_type": "stream",
     "text": [
      "평균 10.41, 표준편차 : 1.10\n",
      "zalpha :  1.959963984540054\n"
     ]
    }
   ],
   "source": [
    "# 모평균의 구간 추정 - 데이터만 주어진 경우\n",
    "w = [10.7, 11.7, 9.8, 11.4, 10.8, 9.9, 10.1, 8.8, 12.2, 11.0, 11.3, 11.1, 10.3, 10.0, 9.9, \n",
    "     9.9, 11.1, 11.7, 11.5, 9.1, 10.3, 8.6, 12.1, 10.0, 13.0, 9.2, 9.8, 9.3, 9.4, 9.6, 9.2]\n",
    "\n",
    "xbar = np.mean(w)\n",
    "sd   = np.std(w, ddof=1) ## ddof = delta degree of freedom : 표본 표준편차 - 자유도 = n-1, 원래는 n인데 1만큼 차이난다 : ddof = 1\n",
    "print(\"평균 %.2f, 표준편차 : %.2f\" %(xbar, sd))\n",
    "\n",
    "import scipy.stats\n",
    "alpha  = 0.05\n",
    "zalpha = scipy.stats.norm.ppf(1-alpha/2) ## z_alpha/2 구하는 함수 : 정규분포 상의 cumulative distribution (97.5%)\n",
    "print(\"zalpha : \", zalpha)"
   ]
  },
  {
   "cell_type": "code",
   "execution_count": 9,
   "id": "b3086af1",
   "metadata": {},
   "outputs": [
    {
     "name": "stdout",
     "output_type": "stream",
     "text": [
      "phat : 0.320, zalpha : 1.960, sd : 0.038\n",
      "[0.24534963990338954, 0.3946503600966105]\n"
     ]
    }
   ],
   "source": [
    "## 모비율의 구간 추정\n",
    "x = 48\n",
    "n = 150\n",
    "phat = x / n\n",
    "alpha = 0.05\n",
    "zalpha = scipy.stats.norm.ppf(1-alpha/2)\n",
    "sd = np.sqrt(phat*(1-phat)/n)\n",
    "print(\"phat : %.3f, zalpha : %.3f, sd : %.3f\" %(phat, zalpha, sd))\n",
    "ci = [phat - zalpha * sd, phat + zalpha * sd]\n",
    "print(ci)"
   ]
  }
 ],
 "metadata": {
  "kernelspec": {
   "display_name": "Python 3",
   "language": "python",
   "name": "python3"
  },
  "language_info": {
   "codemirror_mode": {
    "name": "ipython",
    "version": 3
   },
   "file_extension": ".py",
   "mimetype": "text/x-python",
   "name": "python",
   "nbconvert_exporter": "python",
   "pygments_lexer": "ipython3",
   "version": "3.9.4"
  }
 },
 "nbformat": 4,
 "nbformat_minor": 5
}
