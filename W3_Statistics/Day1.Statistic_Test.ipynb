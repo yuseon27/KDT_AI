{
 "cells": [
  {
   "cell_type": "code",
   "execution_count": 1,
   "id": "a185cbf2",
   "metadata": {},
   "outputs": [],
   "source": [
    "import numpy as np\n",
    "import scipy.stats"
   ]
  },
  {
   "cell_type": "code",
   "execution_count": 2,
   "id": "c0ce4ab4",
   "metadata": {},
   "outputs": [
    {
     "name": "stdout",
     "output_type": "stream",
     "text": [
      "평균 10.41, 표준편차 : 1.10\n",
      "검정통계량 :  -0.44271417607494984\n",
      "임계값 :  1.959963984540054\n"
     ]
    }
   ],
   "source": [
    "# 모평균의 구간 추정 - 데이터만 주어진 경우\n",
    "w = [10.7, 11.7, 9.8, 11.4, 10.8, 9.9, 10.1, 8.8, 12.2, 11.0, 11.3, 11.1, 10.3, 10.0, 9.9, \n",
    "     9.9, 11.1, 11.7, 11.5, 9.1, 10.3, 8.6, 12.1, 10.0, 13.0, 9.2, 9.8, 9.3, 9.4, 9.6, 9.2]\n",
    "mu = 10.5\n",
    "\n",
    "xbar = np.mean(w)\n",
    "sd   = np.std(w, ddof=1) ## ddof = delta degree of freedom : 표본 표준편차 - 자유도 = n-1, 원래는 n인데 1만큼 차이난다 : ddof = 1\n",
    "print(\"평균 %.2f, 표준편차 : %.2f\" %(xbar, sd))\n",
    "\n",
    "z = (xbar-mu) / (sd/np.sqrt(len(w)))\n",
    "print(\"검정통계량 : \", z)\n",
    "\n",
    "alpha = 0.05\n",
    "cri = scipy.stats.norm.ppf(1-alpha/2)\n",
    "print(\"임계값 : \", cri)\n",
    "\n",
    "## 검정 통계량 < 임계값 : 귀무 가설 기각 X"
   ]
  },
  {
   "cell_type": "code",
   "execution_count": 3,
   "id": "a077cbf4",
   "metadata": {},
   "outputs": [
    {
     "name": "stdout",
     "output_type": "stream",
     "text": [
      "평균 9.91, 표준편차 : 1.10\n",
      "검정통계량 :  -2.984221483171976\n",
      "임계값 :  1.959963984540054\n"
     ]
    }
   ],
   "source": [
    "w = [v-0.5 for v in w]\n",
    "mu = 10.5\n",
    "\n",
    "xbar = np.mean(w)\n",
    "sd   = np.std(w, ddof=1) ## ddof = delta degree of freedom : 표본 표준편차 - 자유도 = n-1, 원래는 n인데 1만큼 차이난다 : ddof = 1\n",
    "print(\"평균 %.2f, 표준편차 : %.2f\" %(xbar, sd))\n",
    "\n",
    "z = (xbar-mu) / (sd/np.sqrt(len(w)))\n",
    "print(\"검정통계량 : \", z)\n",
    "\n",
    "alpha = 0.05\n",
    "cri = scipy.stats.norm.ppf(1-alpha/2)\n",
    "print(\"임계값 : \", cri)\n",
    "\n",
    "## 검정 통계량 < 임계값 : 귀무 가설 기각"
   ]
  }
 ],
 "metadata": {
  "kernelspec": {
   "display_name": "Python 3",
   "language": "python",
   "name": "python3"
  },
  "language_info": {
   "codemirror_mode": {
    "name": "ipython",
    "version": 3
   },
   "file_extension": ".py",
   "mimetype": "text/x-python",
   "name": "python",
   "nbconvert_exporter": "python",
   "pygments_lexer": "ipython3",
   "version": "3.9.4"
  }
 },
 "nbformat": 4,
 "nbformat_minor": 5
}
