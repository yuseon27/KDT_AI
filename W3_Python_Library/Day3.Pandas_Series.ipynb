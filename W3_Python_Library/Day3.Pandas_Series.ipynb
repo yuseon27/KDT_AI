{
 "cells": [
  {
   "cell_type": "markdown",
   "id": "555034eb",
   "metadata": {},
   "source": [
    "# 2. 파이썬으로 데이터 주무르기, Pandas\n",
    "\n",
    "**pandas**를 활용해서 데이터프레임을 다뤄봅시다."
   ]
  },
  {
   "cell_type": "markdown",
   "id": "0f0a8d5d",
   "metadata": {},
   "source": [
    "1. Pandas 시작하기\n",
    "    * Prerequisite : Table\n",
    "    * pandas import 하기\n",
    "    \n",
    "\n",
    "2. Pandas로 1차원 데이터 다루기 - Series\n",
    "    * Series 선언하기\n",
    "    * Series vs. ndarray\n",
    "    * Series vs. dict\n",
    "    * Series에 이름 붙이기\n",
    "    \n",
    "3. Pandas로 2차원 데이터 다루기 - DataFrame\n",
    "    * Dataframe 선언하기\n",
    "    * From csv to Dataframe\n",
    "    * Dataframe 자료 접근하기\n",
    "\n",
    "\n",
    "[Covid 데이터](https://www.kaggle.com/imdevskp/corona-virus-report)"
   ]
  },
  {
   "cell_type": "markdown",
   "id": "36070534",
   "metadata": {},
   "source": [
    "## I. Pandas 시작하기"
   ]
  },
  {
   "cell_type": "markdown",
   "id": "d55d361a",
   "metadata": {},
   "source": [
    "### Prerequisite : Table\n",
    "\n",
    "- 행과 열을 이용해서 데이터를 저장하고 관리하는 자료구조 (컨테이너)\n",
    "- 행 : 개체, 열 : 속성 을 나타냄"
   ]
  },
  {
   "cell_type": "markdown",
   "id": "dc1f2324",
   "metadata": {},
   "source": [
    "### Pandas 설치하기\n",
    "cli 창에 `pip install pandas`"
   ]
  },
  {
   "cell_type": "markdown",
   "id": "498eabb8",
   "metadata": {},
   "source": [
    "### Pandas 사용하기\n",
    "\n",
    "`import pandas`를 통해서 진행"
   ]
  },
  {
   "cell_type": "code",
   "execution_count": 1,
   "id": "9999920d",
   "metadata": {},
   "outputs": [],
   "source": [
    "import pandas as pd"
   ]
  },
  {
   "cell_type": "markdown",
   "id": "6361f1a3",
   "metadata": {},
   "source": [
    "## II. pandas로 1차원 데이터다루기 - Series"
   ]
  },
  {
   "cell_type": "markdown",
   "id": "8e7b2d51",
   "metadata": {},
   "source": [
    "### Series\n",
    "- 1-D labeled **array**\n",
    "- 인덱스를 지정해 줄 수 있음"
   ]
  },
  {
   "cell_type": "code",
   "execution_count": 2,
   "id": "d90b0b5a",
   "metadata": {},
   "outputs": [
    {
     "data": {
      "text/plain": [
       "0     1\n",
       "1     4\n",
       "2     9\n",
       "3    16\n",
       "4    25\n",
       "dtype: int64"
      ]
     },
     "execution_count": 2,
     "metadata": {},
     "output_type": "execute_result"
    }
   ],
   "source": [
    "## List\n",
    "s = pd.Series([1, 4, 9, 16, 25])\n",
    "s"
   ]
  },
  {
   "cell_type": "code",
   "execution_count": 3,
   "id": "e0c9fd5b",
   "metadata": {},
   "outputs": [
    {
     "data": {
      "text/plain": [
       "one      1\n",
       "two      2\n",
       "three    3\n",
       "four     4\n",
       "five     5\n",
       "dtype: int64"
      ]
     },
     "execution_count": 3,
     "metadata": {},
     "output_type": "execute_result"
    }
   ],
   "source": [
    "## Dictionary\n",
    "t = pd.Series({'one':1, 'two':2, 'three':3, 'four':4, 'five':5})\n",
    "t"
   ]
  },
  {
   "cell_type": "markdown",
   "id": "1fec22f5",
   "metadata": {},
   "source": [
    "### Series + Numpy\n",
    "\n",
    "- Series는 **ndarray**와 유사하다!"
   ]
  },
  {
   "cell_type": "code",
   "execution_count": 4,
   "id": "3594f972",
   "metadata": {},
   "outputs": [
    {
     "data": {
      "text/plain": [
       "4"
      ]
     },
     "execution_count": 4,
     "metadata": {},
     "output_type": "execute_result"
    }
   ],
   "source": [
    "## Indexing\n",
    "s[1]"
   ]
  },
  {
   "cell_type": "code",
   "execution_count": 5,
   "id": "d0e28133",
   "metadata": {},
   "outputs": [
    {
     "data": {
      "text/plain": [
       "2"
      ]
     },
     "execution_count": 5,
     "metadata": {},
     "output_type": "execute_result"
    }
   ],
   "source": [
    "t[1]"
   ]
  },
  {
   "cell_type": "code",
   "execution_count": 6,
   "id": "d085c90c",
   "metadata": {},
   "outputs": [
    {
     "data": {
      "text/plain": [
       "two      2\n",
       "three    3\n",
       "dtype: int64"
      ]
     },
     "execution_count": 6,
     "metadata": {},
     "output_type": "execute_result"
    }
   ],
   "source": [
    "## Slicing\n",
    "t[1:3]"
   ]
  },
  {
   "cell_type": "code",
   "execution_count": 7,
   "id": "b8500d41",
   "metadata": {},
   "outputs": [
    {
     "data": {
      "text/plain": [
       "3    16\n",
       "4    25\n",
       "dtype: int64"
      ]
     },
     "execution_count": 7,
     "metadata": {},
     "output_type": "execute_result"
    }
   ],
   "source": [
    "## 조건 만족하는 데이터만 추출\n",
    "s[s > s.median()]"
   ]
  },
  {
   "cell_type": "code",
   "execution_count": 8,
   "id": "8c8da219",
   "metadata": {},
   "outputs": [
    {
     "data": {
      "text/plain": [
       "3    16\n",
       "1     4\n",
       "4    25\n",
       "dtype: int64"
      ]
     },
     "execution_count": 8,
     "metadata": {},
     "output_type": "execute_result"
    }
   ],
   "source": [
    "## List에 있는 인덱스의 값들을 추출\n",
    "s[[3, 1, 4]]"
   ]
  },
  {
   "cell_type": "code",
   "execution_count": 9,
   "id": "d9f15dac",
   "metadata": {},
   "outputs": [
    {
     "data": {
      "text/plain": [
       "0    2.718282e+00\n",
       "1    5.459815e+01\n",
       "2    8.103084e+03\n",
       "3    8.886111e+06\n",
       "4    7.200490e+10\n",
       "dtype: float64"
      ]
     },
     "execution_count": 9,
     "metadata": {},
     "output_type": "execute_result"
    }
   ],
   "source": [
    "import numpy as np\n",
    "\n",
    "np.exp(s)"
   ]
  },
  {
   "cell_type": "code",
   "execution_count": 10,
   "id": "fed3f00c",
   "metadata": {},
   "outputs": [
    {
     "data": {
      "text/plain": [
       "dtype('int64')"
      ]
     },
     "execution_count": 10,
     "metadata": {},
     "output_type": "execute_result"
    }
   ],
   "source": [
    "s.dtype"
   ]
  },
  {
   "cell_type": "markdown",
   "id": "4ffdb95b",
   "metadata": {},
   "source": [
    "### Series + Dictionary\n",
    "\n",
    "- Series는 **dict**와 유사하다!"
   ]
  },
  {
   "cell_type": "code",
   "execution_count": 11,
   "id": "cd565963",
   "metadata": {},
   "outputs": [
    {
     "data": {
      "text/plain": [
       "one      1\n",
       "two      2\n",
       "three    3\n",
       "four     4\n",
       "five     5\n",
       "dtype: int64"
      ]
     },
     "execution_count": 11,
     "metadata": {},
     "output_type": "execute_result"
    }
   ],
   "source": [
    "t"
   ]
  },
  {
   "cell_type": "code",
   "execution_count": 12,
   "id": "86c66f21",
   "metadata": {},
   "outputs": [
    {
     "data": {
      "text/plain": [
       "1"
      ]
     },
     "execution_count": 12,
     "metadata": {},
     "output_type": "execute_result"
    }
   ],
   "source": [
    "t['one']"
   ]
  },
  {
   "cell_type": "code",
   "execution_count": 13,
   "id": "19000a07",
   "metadata": {},
   "outputs": [
    {
     "data": {
      "text/plain": [
       "one      1\n",
       "two      2\n",
       "three    3\n",
       "four     4\n",
       "five     5\n",
       "six      6\n",
       "dtype: int64"
      ]
     },
     "execution_count": 13,
     "metadata": {},
     "output_type": "execute_result"
    }
   ],
   "source": [
    "## Series에 값 추가\n",
    "t['six'] = 6\n",
    "t"
   ]
  },
  {
   "cell_type": "code",
   "execution_count": 14,
   "id": "5953d80e",
   "metadata": {},
   "outputs": [
    {
     "data": {
      "text/plain": [
       "True"
      ]
     },
     "execution_count": 14,
     "metadata": {},
     "output_type": "execute_result"
    }
   ],
   "source": [
    "'six' in t"
   ]
  },
  {
   "cell_type": "code",
   "execution_count": 15,
   "id": "7c5cd29f",
   "metadata": {},
   "outputs": [
    {
     "data": {
      "text/plain": [
       "False"
      ]
     },
     "execution_count": 15,
     "metadata": {},
     "output_type": "execute_result"
    }
   ],
   "source": [
    "'seven' in t"
   ]
  },
  {
   "cell_type": "code",
   "execution_count": 16,
   "id": "9268300a",
   "metadata": {},
   "outputs": [],
   "source": [
    "# t['seven'] ## Key error 발생"
   ]
  },
  {
   "cell_type": "code",
   "execution_count": 17,
   "id": "deab07a4",
   "metadata": {},
   "outputs": [],
   "source": [
    "t.get('seven')   ## Key가 없다면 반환 X"
   ]
  },
  {
   "cell_type": "code",
   "execution_count": 18,
   "id": "56effcc6",
   "metadata": {},
   "outputs": [
    {
     "data": {
      "text/plain": [
       "0"
      ]
     },
     "execution_count": 18,
     "metadata": {},
     "output_type": "execute_result"
    }
   ],
   "source": [
    "t.get('seven',0)"
   ]
  },
  {
   "cell_type": "markdown",
   "id": "c7da98f8",
   "metadata": {},
   "source": [
    "### Series에 이름 붙이기\n",
    "\n",
    "- `name` 속성을 가지고 있다.\n",
    "- 처음 Series를 만들 때 이름을 붙일 수 있습니다."
   ]
  },
  {
   "cell_type": "code",
   "execution_count": 19,
   "id": "725ec0af",
   "metadata": {},
   "outputs": [
    {
     "data": {
      "text/plain": [
       "0    1.787441\n",
       "1   -0.723814\n",
       "2    2.136490\n",
       "3    0.946463\n",
       "4   -0.715077\n",
       "Name: random_nums, dtype: float64"
      ]
     },
     "execution_count": 19,
     "metadata": {},
     "output_type": "execute_result"
    }
   ],
   "source": [
    "s = pd.Series(np.random.randn(5), name=\"random_nums\") ## 정규분포, 임의의 난수, s의 값이 실행할 때마다 달라짐\n",
    "s"
   ]
  },
  {
   "cell_type": "code",
   "execution_count": 20,
   "id": "04ae21c8",
   "metadata": {},
   "outputs": [
    {
     "data": {
      "text/plain": [
       "0    1.787441\n",
       "1   -0.723814\n",
       "2    2.136490\n",
       "3    0.946463\n",
       "4   -0.715077\n",
       "Name: 임의의 난수, dtype: float64"
      ]
     },
     "execution_count": 20,
     "metadata": {},
     "output_type": "execute_result"
    }
   ],
   "source": [
    "s.name = \"임의의 난수\"\n",
    "s"
   ]
  }
 ],
 "metadata": {
  "kernelspec": {
   "display_name": "Python 3",
   "language": "python",
   "name": "python3"
  },
  "language_info": {
   "codemirror_mode": {
    "name": "ipython",
    "version": 3
   },
   "file_extension": ".py",
   "mimetype": "text/x-python",
   "name": "python",
   "nbconvert_exporter": "python",
   "pygments_lexer": "ipython3",
   "version": "3.9.4"
  }
 },
 "nbformat": 4,
 "nbformat_minor": 5
}
