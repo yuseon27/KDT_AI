{
 "cells": [
  {
   "cell_type": "code",
   "execution_count": 1,
   "id": "f569170c",
   "metadata": {},
   "outputs": [],
   "source": [
    "import numpy as np"
   ]
  },
  {
   "cell_type": "markdown",
   "id": "fe643170",
   "metadata": {},
   "source": [
    "# Numpy로 선형대수 지식 끼얹기\n",
    "\n",
    "## A. Basics"
   ]
  },
  {
   "cell_type": "markdown",
   "id": "5d7b1d15",
   "metadata": {},
   "source": [
    "### 영벡터 (행렬)\n",
    "- 원소가 모두 0인 벡터(행렬)\n",
    "- `np.zeros(dim)`을 통해 생성, dim은 값, 혹은 튜플(,)"
   ]
  },
  {
   "cell_type": "code",
   "execution_count": 2,
   "id": "5e2d2477",
   "metadata": {},
   "outputs": [
    {
     "data": {
      "text/plain": [
       "array([0., 0., 0.])"
      ]
     },
     "execution_count": 2,
     "metadata": {},
     "output_type": "execute_result"
    }
   ],
   "source": [
    "np.zeros(3)"
   ]
  },
  {
   "cell_type": "code",
   "execution_count": 3,
   "id": "364f28f9",
   "metadata": {},
   "outputs": [
    {
     "data": {
      "text/plain": [
       "array([[0., 0., 0.],\n",
       "       [0., 0., 0.],\n",
       "       [0., 0., 0.]])"
      ]
     },
     "execution_count": 3,
     "metadata": {},
     "output_type": "execute_result"
    }
   ],
   "source": [
    "np.zeros((3,3))"
   ]
  },
  {
   "cell_type": "markdown",
   "id": "1bbbd04a",
   "metadata": {},
   "source": [
    "### 일벡터 (행렬)\n",
    "* 원소가 모두 1인 벡터(행렬)\n",
    "* `np.ones(dim)`을 통해 생성, dim은 값, 혹은 튜플(,)"
   ]
  },
  {
   "cell_type": "code",
   "execution_count": 4,
   "id": "b9a9bb24",
   "metadata": {},
   "outputs": [
    {
     "data": {
      "text/plain": [
       "array([1., 1., 1., 1., 1.])"
      ]
     },
     "execution_count": 4,
     "metadata": {},
     "output_type": "execute_result"
    }
   ],
   "source": [
    "np.ones(5)"
   ]
  },
  {
   "cell_type": "code",
   "execution_count": 5,
   "id": "714231ce",
   "metadata": {},
   "outputs": [
    {
     "data": {
      "text/plain": [
       "array([[1., 1., 1., 1., 1.],\n",
       "       [1., 1., 1., 1., 1.],\n",
       "       [1., 1., 1., 1., 1.],\n",
       "       [1., 1., 1., 1., 1.],\n",
       "       [1., 1., 1., 1., 1.]])"
      ]
     },
     "execution_count": 5,
     "metadata": {},
     "output_type": "execute_result"
    }
   ],
   "source": [
    "np.ones((5, 5))"
   ]
  },
  {
   "cell_type": "markdown",
   "id": "6a2afc23",
   "metadata": {},
   "source": [
    "### 대각 행렬 (Diagonal Matrix)\n",
    "* Main Diagonal을 제외한 성분이 0인 행렬\n",
    "* `np.diag((main_diagonals))`을 통해 생성할 수 있음"
   ]
  },
  {
   "cell_type": "code",
   "execution_count": 6,
   "id": "799f9b64",
   "metadata": {},
   "outputs": [
    {
     "data": {
      "text/plain": [
       "array([[2, 0],\n",
       "       [0, 4]])"
      ]
     },
     "execution_count": 6,
     "metadata": {},
     "output_type": "execute_result"
    }
   ],
   "source": [
    "np.diag((2, 4))"
   ]
  },
  {
   "cell_type": "code",
   "execution_count": 7,
   "id": "93684a27",
   "metadata": {},
   "outputs": [
    {
     "data": {
      "text/plain": [
       "array([[1, 0, 0],\n",
       "       [0, 3, 0],\n",
       "       [0, 0, 5]])"
      ]
     },
     "execution_count": 7,
     "metadata": {},
     "output_type": "execute_result"
    }
   ],
   "source": [
    "np.diag((1, 3, 5))"
   ]
  },
  {
   "cell_type": "markdown",
   "id": "77812d07",
   "metadata": {},
   "source": [
    "### 항등 행렬 (Identity matrix)\n",
    "* Main Diagonal == 1인 Diagonal Matrix\n",
    "* `np.eye(n, (dtype))`을 통해 생성할 수 있음 \n",
    "* dtype = intm uint, float, complex, ..."
   ]
  },
  {
   "cell_type": "code",
   "execution_count": 8,
   "id": "2e072675",
   "metadata": {},
   "outputs": [
    {
     "data": {
      "text/plain": [
       "array([[1., 0., 0.],\n",
       "       [0., 1., 0.],\n",
       "       [0., 0., 1.]])"
      ]
     },
     "execution_count": 8,
     "metadata": {},
     "output_type": "execute_result"
    }
   ],
   "source": [
    "np.eye(3)  # Default dtype = float"
   ]
  },
  {
   "cell_type": "code",
   "execution_count": 9,
   "id": "cfbbb978",
   "metadata": {},
   "outputs": [
    {
     "data": {
      "text/plain": [
       "array([[1, 0],\n",
       "       [0, 1]])"
      ]
     },
     "execution_count": 9,
     "metadata": {},
     "output_type": "execute_result"
    }
   ],
   "source": [
    "np.eye(2, dtype=int)"
   ]
  },
  {
   "cell_type": "code",
   "execution_count": 10,
   "id": "1bbfed20",
   "metadata": {},
   "outputs": [
    {
     "data": {
      "text/plain": [
       "array([[1., 0., 0.],\n",
       "       [0., 1., 0.],\n",
       "       [0., 0., 1.]])"
      ]
     },
     "execution_count": 10,
     "metadata": {},
     "output_type": "execute_result"
    }
   ],
   "source": [
    "np.eye(3, dtype=float)"
   ]
  },
  {
   "cell_type": "markdown",
   "id": "cfa415be",
   "metadata": {},
   "source": [
    "### 행렬 곱 (Dot Product)\n",
    "* 행렬간에 정의되는 곱 연산 (Dot Product)\n",
    "* `np.dot()` 또는 `@` 사용"
   ]
  },
  {
   "cell_type": "code",
   "execution_count": 11,
   "id": "babcbd97",
   "metadata": {},
   "outputs": [],
   "source": [
    "mat1 = np.array([[1, 4], [2, 3]])\n",
    "mat2 = np.array([[7, 9], [0, 6]])"
   ]
  },
  {
   "cell_type": "code",
   "execution_count": 12,
   "id": "2dd412f2",
   "metadata": {},
   "outputs": [
    {
     "data": {
      "text/plain": [
       "array([[ 7, 33],\n",
       "       [14, 36]])"
      ]
     },
     "execution_count": 12,
     "metadata": {},
     "output_type": "execute_result"
    }
   ],
   "source": [
    "mat1.dot(mat2)"
   ]
  },
  {
   "cell_type": "code",
   "execution_count": 13,
   "id": "24b9e326",
   "metadata": {},
   "outputs": [
    {
     "data": {
      "text/plain": [
       "array([[ 7, 33],\n",
       "       [14, 36]])"
      ]
     },
     "execution_count": 13,
     "metadata": {},
     "output_type": "execute_result"
    }
   ],
   "source": [
    "mat1 @ mat2"
   ]
  },
  {
   "cell_type": "code",
   "execution_count": 14,
   "id": "ae9490e7",
   "metadata": {},
   "outputs": [
    {
     "data": {
      "text/plain": [
       "array([[25, 55],\n",
       "       [12, 18]])"
      ]
     },
     "execution_count": 14,
     "metadata": {},
     "output_type": "execute_result"
    }
   ],
   "source": [
    "mat2.dot(mat1)"
   ]
  },
  {
   "cell_type": "markdown",
   "id": "694691db",
   "metadata": {},
   "source": [
    "## B. Furthermore"
   ]
  },
  {
   "cell_type": "markdown",
   "id": "6a4b29b7",
   "metadata": {},
   "source": [
    "### 트레이스 (Trace)\n",
    "\n",
    "* Main Diagonal의 합(Sum)\n",
    "* `np.trace()`를 사용\n"
   ]
  },
  {
   "cell_type": "code",
   "execution_count": 15,
   "id": "07e05d42",
   "metadata": {},
   "outputs": [
    {
     "data": {
      "text/plain": [
       "array([[1, 2, 3],\n",
       "       [4, 5, 6],\n",
       "       [7, 8, 9]])"
      ]
     },
     "execution_count": 15,
     "metadata": {},
     "output_type": "execute_result"
    }
   ],
   "source": [
    "arr = np.array([[1, 2, 3], [4, 5, 6], [7, 8, 9]])\n",
    "arr"
   ]
  },
  {
   "cell_type": "code",
   "execution_count": 16,
   "id": "ed769044",
   "metadata": {},
   "outputs": [
    {
     "data": {
      "text/plain": [
       "15"
      ]
     },
     "execution_count": 16,
     "metadata": {},
     "output_type": "execute_result"
    }
   ],
   "source": [
    "arr.trace()"
   ]
  },
  {
   "cell_type": "code",
   "execution_count": 17,
   "id": "619b9f15",
   "metadata": {},
   "outputs": [
    {
     "data": {
      "text/plain": [
       "2"
      ]
     },
     "execution_count": 17,
     "metadata": {},
     "output_type": "execute_result"
    }
   ],
   "source": [
    "np.eye(2, dtype=int).trace()"
   ]
  },
  {
   "cell_type": "markdown",
   "id": "49a572a8",
   "metadata": {},
   "source": [
    "### 행렬식 (Determinant)\n",
    "\n",
    "* 행렬을 대표하는 갑들 중 하나\n",
    "* 선형 변환 과정에서 Vector의 Scaling 과정\n",
    "* `np.linalg.det()`으로 계산  \n",
    "\n",
    "\n",
    "* determinant == 0 : Full Rank가 아님  \n",
    "  -> column들간의 선형 종속 관계가 있음"
   ]
  },
  {
   "cell_type": "code",
   "execution_count": 18,
   "id": "a14028a4",
   "metadata": {},
   "outputs": [
    {
     "data": {
      "text/plain": [
       "array([[2, 3],\n",
       "       [1, 6]])"
      ]
     },
     "execution_count": 18,
     "metadata": {},
     "output_type": "execute_result"
    }
   ],
   "source": [
    "arr2 = np.array([[2, 3], [1, 6]])\n",
    "arr2"
   ]
  },
  {
   "cell_type": "code",
   "execution_count": 19,
   "id": "4a1efcfb",
   "metadata": {},
   "outputs": [
    {
     "data": {
      "text/plain": [
       "9.000000000000002"
      ]
     },
     "execution_count": 19,
     "metadata": {},
     "output_type": "execute_result"
    }
   ],
   "source": [
    "np.linalg.det(arr2)   ## ad - bc"
   ]
  },
  {
   "cell_type": "code",
   "execution_count": 20,
   "id": "f189d5fd",
   "metadata": {},
   "outputs": [
    {
     "data": {
      "text/plain": [
       "array([[1, 4, 7],\n",
       "       [2, 5, 8],\n",
       "       [3, 6, 9]])"
      ]
     },
     "execution_count": 20,
     "metadata": {},
     "output_type": "execute_result"
    }
   ],
   "source": [
    "arr3 = np.array([[1, 4, 7], [2, 5, 8], [3, 6, 9]])\n",
    "arr3"
   ]
  },
  {
   "cell_type": "code",
   "execution_count": 21,
   "id": "fe32e28c",
   "metadata": {},
   "outputs": [
    {
     "data": {
      "text/plain": [
       "0.0"
      ]
     },
     "execution_count": 21,
     "metadata": {},
     "output_type": "execute_result"
    }
   ],
   "source": [
    "np.linalg.det(arr3)  ## 1*(5*9 - 6*8) - 4*(2*9 - 3*8) + 7*(2*6 - 5*3)"
   ]
  },
  {
   "cell_type": "markdown",
   "id": "efde71a0",
   "metadata": {},
   "source": [
    "### 역행렬 (Inverse Matrix)\n",
    "\n",
    "* 행렬 A에 대해서 AB = BA = I를 만족하는 행렬 B (B=A^-1)\n",
    "* `np.lingalg.inv()` 으로 계산"
   ]
  },
  {
   "cell_type": "code",
   "execution_count": 22,
   "id": "73fcbe89",
   "metadata": {},
   "outputs": [
    {
     "data": {
      "text/plain": [
       "array([[1, 4],\n",
       "       [2, 3]])"
      ]
     },
     "execution_count": 22,
     "metadata": {},
     "output_type": "execute_result"
    }
   ],
   "source": [
    "mat = np.array([[1, 4], [2, 3]])\n",
    "mat"
   ]
  },
  {
   "cell_type": "code",
   "execution_count": 23,
   "id": "9e2f58a9",
   "metadata": {},
   "outputs": [
    {
     "data": {
      "text/plain": [
       "array([[-0.6,  0.8],\n",
       "       [ 0.4, -0.2]])"
      ]
     },
     "execution_count": 23,
     "metadata": {},
     "output_type": "execute_result"
    }
   ],
   "source": [
    "mat_inv = np.linalg.inv(mat)\n",
    "mat_inv"
   ]
  },
  {
   "cell_type": "code",
   "execution_count": 24,
   "id": "51efba9d",
   "metadata": {},
   "outputs": [
    {
     "data": {
      "text/plain": [
       "array([[ 1.00000000e+00,  0.00000000e+00],\n",
       "       [-1.11022302e-16,  1.00000000e+00]])"
      ]
     },
     "execution_count": 24,
     "metadata": {},
     "output_type": "execute_result"
    }
   ],
   "source": [
    "mat @ mat_inv"
   ]
  },
  {
   "cell_type": "code",
   "execution_count": 25,
   "id": "93c9e474",
   "metadata": {},
   "outputs": [
    {
     "data": {
      "text/plain": [
       "array([[ 1.00000000e+00, -2.22044605e-16],\n",
       "       [ 0.00000000e+00,  1.00000000e+00]])"
      ]
     },
     "execution_count": 25,
     "metadata": {},
     "output_type": "execute_result"
    }
   ],
   "source": [
    "mat_inv @ mat"
   ]
  },
  {
   "cell_type": "markdown",
   "id": "d279efa0",
   "metadata": {},
   "source": [
    "### 고유값과 고유 벡터 (Eigen Value and Eigen Vector)\n",
    "\n",
    "* 정방행렬(nxn) A에 대해 $Ax = \\lambda$를 만족하는 상수 $\\lambda$와 이에 대응하는 벡터\n",
    "* `np.ling.eig()` 으로 계산\n",
    "* return : eigenvalue, eigenvector  \n",
    "  - eigenvector의 열(Column)별로 eigenvalue가 대응\n",
    "  - eigne vector는 normalize 된 값\n",
    "\n",
    "\n",
    "* 어떠한 선형 변화는 방향이 변하지 않고 같은 Span에 위치해서 크기만 변함  \n",
    "  -> Span 되는 비율 : 고유값, Span 영역의 벡터 : 고유 벡터  \n",
    "* determinant를 계산하고 그 이후 과정 쭉쭉..."
   ]
  },
  {
   "cell_type": "code",
   "execution_count": 26,
   "id": "7c854cdd",
   "metadata": {},
   "outputs": [
    {
     "data": {
      "text/plain": [
       "array([[ 2,  0, -2],\n",
       "       [ 1,  1, -2],\n",
       "       [ 0,  0,  1]])"
      ]
     },
     "execution_count": 26,
     "metadata": {},
     "output_type": "execute_result"
    }
   ],
   "source": [
    "mat = np.array([[2, 0, -2], [1, 1, -2], [0, 0, 1]])\n",
    "mat"
   ]
  },
  {
   "cell_type": "code",
   "execution_count": 27,
   "id": "269969e4",
   "metadata": {
    "scrolled": true
   },
   "outputs": [],
   "source": [
    "eigen_val, eigen_vec = np.linalg.eig(mat)  "
   ]
  },
  {
   "cell_type": "code",
   "execution_count": 28,
   "id": "b32c92c3",
   "metadata": {},
   "outputs": [
    {
     "data": {
      "text/plain": [
       "array([1., 2., 1.])"
      ]
     },
     "execution_count": 28,
     "metadata": {},
     "output_type": "execute_result"
    }
   ],
   "source": [
    "eigen_val"
   ]
  },
  {
   "cell_type": "code",
   "execution_count": 29,
   "id": "f702c022",
   "metadata": {},
   "outputs": [
    {
     "data": {
      "text/plain": [
       "array([[0.        , 0.70710678, 0.89442719],\n",
       "       [1.        , 0.70710678, 0.        ],\n",
       "       [0.        , 0.        , 0.4472136 ]])"
      ]
     },
     "execution_count": 29,
     "metadata": {},
     "output_type": "execute_result"
    }
   ],
   "source": [
    "eigen_vec"
   ]
  },
  {
   "cell_type": "markdown",
   "id": "0f5d0794",
   "metadata": {},
   "source": [
    "#### Validation"
   ]
  },
  {
   "cell_type": "code",
   "execution_count": 30,
   "id": "b4e49936",
   "metadata": {},
   "outputs": [
    {
     "data": {
      "text/plain": [
       "array([0., 1., 0.])"
      ]
     },
     "execution_count": 30,
     "metadata": {},
     "output_type": "execute_result"
    }
   ],
   "source": [
    "mat @ eigen_vec[:, 0] # Ax"
   ]
  },
  {
   "cell_type": "code",
   "execution_count": 31,
   "id": "51faede9",
   "metadata": {},
   "outputs": [
    {
     "data": {
      "text/plain": [
       "array([0., 1., 0.])"
      ]
     },
     "execution_count": 31,
     "metadata": {},
     "output_type": "execute_result"
    }
   ],
   "source": [
    "eigen_val[0] * eigen_vec[:, 0] # (lambda)x"
   ]
  },
  {
   "cell_type": "code",
   "execution_count": 32,
   "id": "0947c70d",
   "metadata": {},
   "outputs": [
    {
     "name": "stdout",
     "output_type": "stream",
     "text": [
      "[1.41421356 1.41421356 0.        ]\n",
      "[1.41421356 1.41421356 0.        ]\n"
     ]
    }
   ],
   "source": [
    "print(mat @ eigen_vec[:, 1])\n",
    "print(eigen_val[1] * eigen_vec[:, 1]) # (lambda)x"
   ]
  }
 ],
 "metadata": {
  "kernelspec": {
   "display_name": "Python 3",
   "language": "python",
   "name": "python3"
  },
  "language_info": {
   "codemirror_mode": {
    "name": "ipython",
    "version": 3
   },
   "file_extension": ".py",
   "mimetype": "text/x-python",
   "name": "python",
   "nbconvert_exporter": "python",
   "pygments_lexer": "ipython3",
   "version": "3.9.4"
  }
 },
 "nbformat": 4,
 "nbformat_minor": 5
}
