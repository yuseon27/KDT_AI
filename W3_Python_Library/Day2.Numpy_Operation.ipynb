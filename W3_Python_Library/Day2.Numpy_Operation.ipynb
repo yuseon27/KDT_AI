{
 "cells": [
  {
   "cell_type": "markdown",
   "id": "bc0a7268",
   "metadata": {},
   "source": [
    "## 1. Numpy 선언하기\n",
    "\n",
    "numpy의 Container : numpy.array"
   ]
  },
  {
   "cell_type": "markdown",
   "id": "b3888541",
   "metadata": {},
   "source": [
    "### Numpy 가져오기"
   ]
  },
  {
   "cell_type": "code",
   "execution_count": 1,
   "id": "95dbbe14",
   "metadata": {},
   "outputs": [],
   "source": [
    "import numpy as np"
   ]
  },
  {
   "cell_type": "markdown",
   "id": "c1f066b2",
   "metadata": {},
   "source": [
    "### Numpy 선언하기"
   ]
  },
  {
   "cell_type": "code",
   "execution_count": 2,
   "id": "a6ad945c",
   "metadata": {},
   "outputs": [
    {
     "data": {
      "text/plain": [
       "array([1, 2, 3])"
      ]
     },
     "execution_count": 2,
     "metadata": {},
     "output_type": "execute_result"
    }
   ],
   "source": [
    "arr = np.array([1, 2, 3])\n",
    "arr"
   ]
  },
  {
   "cell_type": "code",
   "execution_count": 3,
   "id": "7517e6a0",
   "metadata": {},
   "outputs": [
    {
     "data": {
      "text/plain": [
       "array([[1, 2, 3],\n",
       "       [4, 5, 6],\n",
       "       [7, 8, 9]])"
      ]
     },
     "execution_count": 3,
     "metadata": {},
     "output_type": "execute_result"
    }
   ],
   "source": [
    "arr_2d = np.array([[1, 2, 3], [4, 5, 6], [7, 8, 9]])\n",
    "arr_2d"
   ]
  },
  {
   "cell_type": "markdown",
   "id": "338c8ae5",
   "metadata": {},
   "source": [
    "### Numpy Arrray의 형태(Shape)"
   ]
  },
  {
   "cell_type": "code",
   "execution_count": 4,
   "id": "bad4395a",
   "metadata": {},
   "outputs": [
    {
     "data": {
      "text/plain": [
       "(3,)"
      ]
     },
     "execution_count": 4,
     "metadata": {},
     "output_type": "execute_result"
    }
   ],
   "source": [
    "arr.shape"
   ]
  },
  {
   "cell_type": "code",
   "execution_count": 5,
   "id": "19c50432",
   "metadata": {},
   "outputs": [
    {
     "data": {
      "text/plain": [
       "(3, 3)"
      ]
     },
     "execution_count": 5,
     "metadata": {},
     "output_type": "execute_result"
    }
   ],
   "source": [
    "arr_2d.shape"
   ]
  },
  {
   "cell_type": "markdown",
   "id": "43aebc88",
   "metadata": {},
   "source": [
    "## 2. Numpy 연산"
   ]
  },
  {
   "cell_type": "markdown",
   "id": "498615f3",
   "metadata": {},
   "source": [
    "### Vector와 Scalar 사이의 연산\n",
    "\n",
    "벡터의 각 원소에 대해서 연산을 진행"
   ]
  },
  {
   "cell_type": "code",
   "execution_count": 6,
   "id": "32dd9ca3",
   "metadata": {},
   "outputs": [
    {
     "name": "stdout",
     "output_type": "stream",
     "text": [
      "더하기 : [6 7 8]\n",
      "빼기  : [-4 -3 -2]\n",
      "곱하기 : [ 5 10 15]\n",
      "나누기 : [0.2 0.4 0.6]\n"
     ]
    }
   ],
   "source": [
    "x = np.array([1, 2, 3])\n",
    "c = 5\n",
    "\n",
    "print(\"더하기 : {}\".format(x+c))\n",
    "print(\"빼기  : {}\".format(x-c))\n",
    "print(\"곱하기 : {}\".format(x*c))\n",
    "print(\"나누기 : {}\".format(x/c))"
   ]
  },
  {
   "cell_type": "markdown",
   "id": "d1078d9e",
   "metadata": {},
   "source": [
    "### Vector와 Vector 사이의 연산\n",
    "벡터의 **같은 인덱스**끼리 연산 진행!!"
   ]
  },
  {
   "cell_type": "code",
   "execution_count": 7,
   "id": "7dca5190",
   "metadata": {},
   "outputs": [
    {
     "name": "stdout",
     "output_type": "stream",
     "text": [
      "더하기 : [ 3 12 25]\n",
      "빼기  : [ -1  -6 -15]\n",
      "곱하기 : [  2  27 100]\n",
      "나누기 : [0.5        0.33333333 0.25      ]\n"
     ]
    }
   ],
   "source": [
    "y = np.array([1, 3, 5])\n",
    "z = np.array([2, 9, 20])\n",
    "\n",
    "print(\"더하기 : {}\".format(y+z))\n",
    "print(\"빼기  : {}\".format(y-z))\n",
    "print(\"곱하기 : {}\".format(y*z))\n",
    "print(\"나누기 : {}\".format(y/z))"
   ]
  },
  {
   "cell_type": "markdown",
   "id": "c639ab53",
   "metadata": {},
   "source": [
    "## 3. Array의 Indexing과 Slicing\n",
    "### Array의 Indexing\n",
    "\n",
    "Python의 List와 유사하게 진행 \n",
    "\n",
    "* w[row, col] 또는 w[row][col]"
   ]
  },
  {
   "cell_type": "code",
   "execution_count": 8,
   "id": "77024d71",
   "metadata": {},
   "outputs": [
    {
     "data": {
      "text/plain": [
       "1"
      ]
     },
     "execution_count": 8,
     "metadata": {},
     "output_type": "execute_result"
    }
   ],
   "source": [
    "w = np.array([[1, 2, 3, 4], [5, 6, 7, 8], [9, 10, 11, 12]])\n",
    "\n",
    "w[0][0]"
   ]
  },
  {
   "cell_type": "code",
   "execution_count": 9,
   "id": "4f4c4d7c",
   "metadata": {},
   "outputs": [
    {
     "data": {
      "text/plain": [
       "12"
      ]
     },
     "execution_count": 9,
     "metadata": {},
     "output_type": "execute_result"
    }
   ],
   "source": [
    "# 12를 가지고 오려면?\n",
    "w[2, 3]"
   ]
  },
  {
   "cell_type": "markdown",
   "id": "2fa2138e",
   "metadata": {},
   "source": [
    "### Array의 Slicing\n",
    "\n",
    "Python의 List와 유사하게 진행 \n",
    "\n",
    "* [:b] : 맨 처음부터 b까지(~b-1)  \n",
    "* [a:] : a부터 끝까지  \n",
    "* [:]  : 처음부터 끝까지  "
   ]
  },
  {
   "cell_type": "code",
   "execution_count": 10,
   "id": "6c046813",
   "metadata": {},
   "outputs": [
    {
     "data": {
      "text/plain": [
       "array([[2, 3],\n",
       "       [6, 7]])"
      ]
     },
     "execution_count": 10,
     "metadata": {},
     "output_type": "execute_result"
    }
   ],
   "source": [
    "w = np.array([[1, 2, 3, 4], [5, 6, 7, 8], [9, 10, 11, 12]])\n",
    "\n",
    "## 2, 3, 6, 7을 가지고 오고 싶다면?\n",
    "w[0:2,1:3]"
   ]
  },
  {
   "cell_type": "markdown",
   "id": "b4266e95",
   "metadata": {},
   "source": [
    "## 4. Array의 Broadcasting\n",
    "\n",
    "기본적으로 같은 Type의 data에 대해서만 연산이 적용 가능  \n",
    "하지만 만약에 피 연산자가 연산 가능하도로고 변환이 가능하다면 연산이 가능하다.  \n",
    "이를 **Broadcasting**이라고 한다.  \n",
    "\n",
    "Element-wise하게 연산 가능하도록 형태가 다른 Array를 변형\n",
    "\n",
    "1. M X N, M X 1   -> M X 1이 M X N으로 (M의 열벡터가 N개 생기는 모양)\n",
    "2. M X N, 1 X N   -> 1 X N이 M X N으로 (N의 행벡터가 M개 생기는 모양)\n",
    "3. M X 1, 1 X N   -> 서로 보완 둘이 같은 모양으로 M X N"
   ]
  },
  {
   "cell_type": "markdown",
   "id": "bea12037",
   "metadata": {},
   "source": [
    "### 1. M X N, M X 1"
   ]
  },
  {
   "cell_type": "code",
   "execution_count": 11,
   "id": "2612ae3e",
   "metadata": {},
   "outputs": [
    {
     "data": {
      "text/plain": [
       "array([[1, 2, 3],\n",
       "       [5, 6, 7],\n",
       "       [7, 8, 9]])"
      ]
     },
     "execution_count": 11,
     "metadata": {},
     "output_type": "execute_result"
    }
   ],
   "source": [
    "a = np.array([[1, 2, 3], [4, 5, 6], [7, 8, 9]])\n",
    "x = np.array([0, 1, 0])\n",
    "x = x[:, None]  ## 열벡터로 Transpose\n",
    "\n",
    "a+x"
   ]
  },
  {
   "cell_type": "markdown",
   "id": "12fa2373",
   "metadata": {},
   "source": [
    "### 2. M X N, 1 X N"
   ]
  },
  {
   "cell_type": "code",
   "execution_count": 12,
   "id": "eb5da432",
   "metadata": {},
   "outputs": [
    {
     "data": {
      "text/plain": [
       "array([[1, 3, 2],\n",
       "       [4, 6, 5],\n",
       "       [7, 9, 8]])"
      ]
     },
     "execution_count": 12,
     "metadata": {},
     "output_type": "execute_result"
    }
   ],
   "source": [
    "y = np.array([0, 1, -1])  ## 기본적으로 행벡터 \n",
    "\n",
    "a + y"
   ]
  },
  {
   "cell_type": "markdown",
   "id": "1a47bb68",
   "metadata": {},
   "source": [
    "### 3. M X 1, 1 X N "
   ]
  },
  {
   "cell_type": "code",
   "execution_count": 13,
   "id": "8a8eb18f",
   "metadata": {},
   "outputs": [
    {
     "data": {
      "text/plain": [
       "array([[ 0,  1, -1],\n",
       "       [ 1,  2,  0],\n",
       "       [ 0,  1, -1]])"
      ]
     },
     "execution_count": 13,
     "metadata": {},
     "output_type": "execute_result"
    }
   ],
   "source": [
    "x + y   ## x는 열벡터, y는 행벡터"
   ]
  }
 ],
 "metadata": {
  "kernelspec": {
   "display_name": "Python 3",
   "language": "python",
   "name": "python3"
  },
  "language_info": {
   "codemirror_mode": {
    "name": "ipython",
    "version": 3
   },
   "file_extension": ".py",
   "mimetype": "text/x-python",
   "name": "python",
   "nbconvert_exporter": "python",
   "pygments_lexer": "ipython3",
   "version": "3.9.4"
  }
 },
 "nbformat": 4,
 "nbformat_minor": 5
}
