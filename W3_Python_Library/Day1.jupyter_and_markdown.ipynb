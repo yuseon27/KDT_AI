{
 "cells": [
  {
   "cell_type": "code",
   "execution_count": 4,
   "id": "091ffd93",
   "metadata": {},
   "outputs": [
    {
     "name": "stdout",
     "output_type": "stream",
     "text": [
      "Hello world!\n"
     ]
    }
   ],
   "source": [
    "print('Hello world!')   # Shift + Enter"
   ]
  },
  {
   "cell_type": "markdown",
   "id": "dc4b7a24",
   "metadata": {},
   "source": [
    "### Hello World!"
   ]
  },
  {
   "cell_type": "code",
   "execution_count": 3,
   "id": "d5b8932d",
   "metadata": {},
   "outputs": [
    {
     "name": "stdout",
     "output_type": "stream",
     "text": [
      "Bye World!\n"
     ]
    }
   ],
   "source": [
    "print('Bye World!')"
   ]
  },
  {
   "cell_type": "markdown",
   "id": "a2640816",
   "metadata": {},
   "source": [
    "## Jupyter Shortcuts\n",
    "#### ESC (Command Mode)\n",
    "M  (-> Markdown)  \n",
    "Y  (-> Code)  \n",
    "A  (Insert a cell Above)  \n",
    "B  (Insert a cell Below)  \n",
    "dd (Delete current cell)\n",
    "ctrl/cmd + Enter (Execute current cell)\n",
    "shift + Enter (Execute current cell and move to the next cell)"
   ]
  },
  {
   "cell_type": "markdown",
   "id": "d0ac1ce4",
   "metadata": {},
   "source": [
    "## Let's Talk about Markdown"
   ]
  },
  {
   "cell_type": "markdown",
   "id": "47a40925",
   "metadata": {},
   "source": [
    "### This is Header\n",
    "\n",
    "This is body of Markdown"
   ]
  },
  {
   "cell_type": "markdown",
   "id": "a4585d7c",
   "metadata": {},
   "source": [
    "## 1. Header"
   ]
  },
  {
   "cell_type": "markdown",
   "id": "f110a8fd",
   "metadata": {},
   "source": [
    "# Header 1 - 제목\n",
    "## Header 2   - 소제목\n",
    "### Header 3\n",
    "#### Header 4\n",
    "##### Header 5\n",
    "###### Header 6"
   ]
  },
  {
   "cell_type": "markdown",
   "id": "d69b46b5",
   "metadata": {},
   "source": [
    "## 2. Italic"
   ]
  },
  {
   "cell_type": "markdown",
   "id": "4b1aecbb",
   "metadata": {},
   "source": [
    "*Italic*  \n",
    "_Italic_  \n",
    "*이탈릭체*로 바꾸고 싶으면, 양 쪽에 \\'\\*\\' 나 \\'\\_\\'를 붙이면 돼요"
   ]
  },
  {
   "cell_type": "markdown",
   "id": "d022fef2",
   "metadata": {},
   "source": [
    "## 3. Enter(줄바꿈)"
   ]
  },
  {
   "cell_type": "markdown",
   "id": "1ce52a1f",
   "metadata": {},
   "source": [
    "줄바꿈을 하려면 마지막에 띄어쓰기를 2번 해 줘야 해요  \n",
    "space 2번!!"
   ]
  },
  {
   "cell_type": "markdown",
   "id": "36896309",
   "metadata": {},
   "source": [
    "## 4. Bold"
   ]
  },
  {
   "cell_type": "markdown",
   "id": "1fd549a4",
   "metadata": {},
   "source": [
    "**bold**  \n",
    "__bold__  \n",
    "non-bold  \n",
    "\n",
    "I like **chocolate** and **greek yogurt**.  \n",
    "\n",
    "**bold**는 '\\*' 또는 '\\_'을 2번!  "
   ]
  },
  {
   "cell_type": "markdown",
   "id": "ab4db7e3",
   "metadata": {},
   "source": [
    "## 5. Cancel Line"
   ]
  },
  {
   "cell_type": "markdown",
   "id": "73dd1e67",
   "metadata": {},
   "source": [
    "취소 선은 '\\~'를 양쪽에 붙이면 돼요  \n",
    "~cancel line~"
   ]
  },
  {
   "cell_type": "markdown",
   "id": "7577b609",
   "metadata": {},
   "source": [
    "## 6. Ordered List & Unordered List"
   ]
  },
  {
   "cell_type": "markdown",
   "id": "44f87721",
   "metadata": {},
   "source": [
    "1. ol_one\n",
    "2. ol_two\n",
    "3. ol_three"
   ]
  },
  {
   "cell_type": "markdown",
   "id": "40dcbe39",
   "metadata": {},
   "source": [
    "* ul_one\n",
    "* ul_two\n",
    "\n",
    "\n",
    "- ul_one'\n",
    "- ul_two'"
   ]
  },
  {
   "cell_type": "markdown",
   "id": "d6955346",
   "metadata": {},
   "source": [
    "Ordered list는 '숫자. '을 사용하면 되고, Unordered list는 '- ' 또는 '* '을 사용하면 됩니다."
   ]
  }
 ],
 "metadata": {
  "kernelspec": {
   "display_name": "Python 3",
   "language": "python",
   "name": "python3"
  },
  "language_info": {
   "codemirror_mode": {
    "name": "ipython",
    "version": 3
   },
   "file_extension": ".py",
   "mimetype": "text/x-python",
   "name": "python",
   "nbconvert_exporter": "python",
   "pygments_lexer": "ipython3",
   "version": "3.9.4"
  }
 },
 "nbformat": 4,
 "nbformat_minor": 5
}
