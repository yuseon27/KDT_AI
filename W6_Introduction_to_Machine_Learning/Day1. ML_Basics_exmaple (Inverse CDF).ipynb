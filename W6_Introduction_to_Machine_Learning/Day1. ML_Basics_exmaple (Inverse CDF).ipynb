{
 "cells": [
  {
   "cell_type": "code",
   "execution_count": null,
   "id": "a33a9aa6",
   "metadata": {},
   "outputs": [],
   "source": [
    "# inverse transform sampling\n",
    "# cdf : F(d) = d ** 2 / r ** 2\n",
    "# inverse cdf : r * (u ** 0.5)\n",
    "import matplotlib\n",
    "matplotlib.use(\"TkAgg\")\n",
    "\n",
    "import turtle\n",
    "import math\n",
    "import random\n",
    "\n",
    "wn   = turtle.Screen()\n",
    "turtle.tracer(8, 0)\n",
    "alex = turtle.Turtle()\n",
    "alex.hideturtle()\n",
    "\n",
    "r = 200\n",
    "for i in range(5000) : #{\n",
    "    u = random.random()\n",
    "    d = r * (u ** 0.5)\n",
    "    # d = u * r # dense around the center; wrong way : 점들이 원의 중앙에 더 많이 찍힘\n",
    "    \n",
    "    theta = random.random()*360\n",
    "    x = d * math.cos(math.radians(theta))\n",
    "    y = d * math.sin(math.radians(theta))\n",
    "    \n",
    "    alex.penup()\n",
    "    alex.setposition(x, y)\n",
    "    alex.dot()\n",
    "#}\n",
    "turtle.update()\n",
    "wn.mainloop()"
   ]
  }
 ],
 "metadata": {
  "kernelspec": {
   "display_name": "Python 3",
   "language": "python",
   "name": "python3"
  },
  "language_info": {
   "codemirror_mode": {
    "name": "ipython",
    "version": 3
   },
   "file_extension": ".py",
   "mimetype": "text/x-python",
   "name": "python",
   "nbconvert_exporter": "python",
   "pygments_lexer": "ipython3",
   "version": "3.9.5"
  }
 },
 "nbformat": 4,
 "nbformat_minor": 5
}
