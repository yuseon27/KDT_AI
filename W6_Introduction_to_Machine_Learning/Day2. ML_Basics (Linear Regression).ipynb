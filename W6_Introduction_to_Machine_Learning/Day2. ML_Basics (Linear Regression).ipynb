{
 "cells": [
  {
   "cell_type": "code",
   "execution_count": 1,
   "id": "444aee0f",
   "metadata": {},
   "outputs": [],
   "source": [
    "import matplotlib.pyplot as plt\n",
    "import seaborn as sns; sns.set()\n",
    "import numpy as np\n",
    "\n",
    "%matplotlib inline"
   ]
  },
  {
   "cell_type": "markdown",
   "id": "af058c1e",
   "metadata": {},
   "source": [
    "## 선형 회귀 (Linear Regression)\n",
    "\n",
    "먼저, 주어진 데이터를 직선을 사용해 모델링하는 방법을 살펴본다.  \n",
    "직선 함수는 다음과 같은 형태를 가진다.\n",
    "\n",
    "$$y = ax + b$$\n",
    "\n",
    "<!-- \\begin{align}\n",
    "y = ax + b\n",
    "\\end{align}  -->\n",
    "\n",
    "여기서 *a*는 기울기(slope)이고, *b*는 y절편(Intercept)라고 불린다.  \n",
    "아래 그래프는 기울기가 2이고 y절편이 -5인 직선으로부터 생성된 데이터를 보여준다."
   ]
  },
  {
   "cell_type": "code",
   "execution_count": 2,
   "id": "886f6f49",
   "metadata": {},
   "outputs": [
    {
     "data": {
      "image/png": "[encoded data removed]",
      "text/plain": [
       "<Figure size 432x288 with 1 Axes>"
      ]
     },
     "metadata": {
      "needs_background": "light"
     },
     "output_type": "display_data"
    }
   ],
   "source": [
    "slope     = 2\n",
    "intercept = 5\n",
    "\n",
    "rng = np.random.RandomState(1)\n",
    "x = 10 * rng.rand(50)   ## 0~10 사이 50개의 점\n",
    "y = slope * x - intercept + rng.randn(50)\n",
    "\n",
    "plt.scatter(x, y)\n",
    "plt.show()"
   ]
  },
  {
   "cell_type": "code",
   "execution_count": 3,
   "id": "ad9e9c7a",
   "metadata": {},
   "outputs": [
    {
     "data": {
      "text/plain": [
       "array([0.93259546, 0.69681816, 0.06600017, 0.75546305, 0.75387619,\n",
       "       0.92302454, 0.71152476, 0.12427096, 0.01988013, 0.02621099,\n",
       "       0.02830649, 0.24621107, 0.86002795, 0.53883106, 0.55282198,\n",
       "       0.84203089, 0.12417332, 0.27918368, 0.58575927, 0.96959575,\n",
       "       0.56103022, 0.01864729, 0.80063267, 0.23297427, 0.8071052 ,\n",
       "       0.38786064, 0.86354185, 0.74712164, 0.55624023, 0.13645523,\n",
       "       0.05991769, 0.12134346, 0.04455188, 0.10749413, 0.22570934,\n",
       "       0.71298898, 0.55971698, 0.01255598, 0.07197428, 0.96727633,\n",
       "       0.56810046, 0.20329323, 0.25232574, 0.74382585, 0.19542948,\n",
       "       0.58135893, 0.97001999, 0.8468288 , 0.23984776, 0.49376971])"
      ]
     },
     "execution_count": 3,
     "metadata": {},
     "output_type": "execute_result"
    }
   ],
   "source": [
    "rng.rand(50)   ## parameter : 랜덤 값의 개수"
   ]
  },
  {
   "cell_type": "markdown",
   "id": "51397111",
   "metadata": {},
   "source": [
    "Sickit-Learn의 ```LinearReression```Estimator를 사용해서 위 데이터를 가장 잘 표현하는 직선을 찾을 수 있다."
   ]
  },
  {
   "cell_type": "code",
   "execution_count": 4,
   "id": "ce6058bc",
   "metadata": {},
   "outputs": [
    {
     "data": {
      "text/plain": [
       "(50,)"
      ]
     },
     "execution_count": 4,
     "metadata": {},
     "output_type": "execute_result"
    }
   ],
   "source": [
    "x.shape"
   ]
  },
  {
   "cell_type": "code",
   "execution_count": 5,
   "id": "50a69b1a",
   "metadata": {},
   "outputs": [
    {
     "data": {
      "text/plain": [
       "(50, 1)"
      ]
     },
     "execution_count": 5,
     "metadata": {},
     "output_type": "execute_result"
    }
   ],
   "source": [
    "x[:, np.newaxis].shape"
   ]
  },
  {
   "cell_type": "code",
   "execution_count": 6,
   "id": "86a81862",
   "metadata": {},
   "outputs": [
    {
     "data": {
      "image/png": "[encoded data removed]",
      "text/plain": [
       "<Figure size 432x288 with 1 Axes>"
      ]
     },
     "metadata": {
      "needs_background": "light"
     },
     "output_type": "display_data"
    }
   ],
   "source": [
    "from sklearn.linear_model import LinearRegression\n",
    "model = LinearRegression(fit_intercept=True)\n",
    "\n",
    "model.fit(x[:, np.newaxis], y)   ## x가 2차원이어야함!\n",
    "\n",
    "xfit = np.linspace(0, 10, 1000)\n",
    "yfit = model.predict(xfit[:, np.newaxis])\n",
    "\n",
    "plt.scatter(x, y)\n",
    "plt.plot(xfit, yfit)\n",
    "plt.show()"
   ]
  },
  {
   "cell_type": "markdown",
   "id": "df0c5aba",
   "metadata": {},
   "source": [
    "모델 학습이 끝난 후 학습된 파라미터들은 model.{파라미터이름}_ 의 형태로 저장된다. 기울기와 y절편은 아래와 같이 출력할 수 있다."
   ]
  },
  {
   "cell_type": "code",
   "execution_count": 7,
   "id": "99a92e1b",
   "metadata": {},
   "outputs": [
    {
     "name": "stdout",
     "output_type": "stream",
     "text": [
      "Model Slope     : 2.0272088103606953\n",
      "Model intercept : -4.998577085553204\n"
     ]
    }
   ],
   "source": [
    "print(\"Model Slope     :\", model.coef_[0])\n",
    "print(\"Model intercept :\", model.intercept_)"
   ]
  },
  {
   "cell_type": "markdown",
   "id": "f8430384",
   "metadata": {},
   "source": [
    "```LinearRegression``` Estimator는 위의 예제와 같은 1차원 입력 뿐만 아니라 다차원 입력을 사용한 선형모델을 다룰 수 있다.  \n",
    "다차원 선형 무델은 다음과 같은 형태를 가진다.\n",
    "$$ y = a_0 + a_1x_1 + a_2x_2 + \\cdots $$\n",
    "\n",
    "기하학적으로 hyper-plane으로 데이터를 표현하는 것이라고 말할 수 있다."
   ]
  },
  {
   "cell_type": "code",
   "execution_count": 8,
   "id": "a81f8702",
   "metadata": {},
   "outputs": [
    {
     "data": {
      "text/plain": [
       "(100, 3)"
      ]
     },
     "execution_count": 8,
     "metadata": {},
     "output_type": "execute_result"
    }
   ],
   "source": [
    "rng = np.random.RandomState(1)\n",
    "rng.rand(100, 3).shape"
   ]
  },
  {
   "cell_type": "code",
   "execution_count": 9,
   "id": "73f341fd",
   "metadata": {},
   "outputs": [
    {
     "data": {
      "text/plain": [
       "LinearRegression()"
      ]
     },
     "execution_count": 9,
     "metadata": {},
     "output_type": "execute_result"
    }
   ],
   "source": [
    "slope     = [1.5, -2., -1.]  ## 열벡터\n",
    "intercept = 0.5\n",
    "\n",
    "rng = np.random.RandomState(1)\n",
    "X   = 10 * rng.rand(100, 3)   ## 대문자는 2차원 이상의 행렬/벡터\n",
    "y   = intercept + np.dot(X, slope)  ## 소문자는 스칼라/열벡터/행벡터\n",
    "\n",
    "model.fit(X, y)"
   ]
  },
  {
   "cell_type": "code",
   "execution_count": 10,
   "id": "84f6e03d",
   "metadata": {},
   "outputs": [
    {
     "name": "stdout",
     "output_type": "stream",
     "text": [
      "[4.17022005e+00 7.20324493e+00 1.14374817e-03]\n",
      "-8.152303546478\n",
      "(100,)\n"
     ]
    }
   ],
   "source": [
    "print(X[0])\n",
    "print(np.dot(X[0], slope))\n",
    "print(y.shape)"
   ]
  },
  {
   "cell_type": "code",
   "execution_count": 11,
   "id": "2ce6d29a",
   "metadata": {},
   "outputs": [
    {
     "name": "stdout",
     "output_type": "stream",
     "text": [
      "0.5000000000000124\n",
      "[ 1.5 -2.  -1. ]\n"
     ]
    }
   ],
   "source": [
    "print(model.intercept_)\n",
    "print(model.coef_)"
   ]
  },
  {
   "cell_type": "code",
   "execution_count": 12,
   "id": "7ca86314",
   "metadata": {},
   "outputs": [
    {
     "data": {
      "text/plain": [
       "array([[4.17022005e+00, 7.20324493e+00, 1.14374817e-03],\n",
       "       [3.02332573e+00, 1.46755891e+00, 9.23385948e-01],\n",
       "       [1.86260211e+00, 3.45560727e+00, 3.96767474e+00],\n",
       "       [5.38816734e+00, 4.19194514e+00, 6.85219500e+00],\n",
       "       [2.04452250e+00, 8.78117436e+00, 2.73875932e-01]])"
      ]
     },
     "execution_count": 12,
     "metadata": {},
     "output_type": "execute_result"
    }
   ],
   "source": [
    "X[:5]"
   ]
  },
  {
   "cell_type": "markdown",
   "id": "67e556a0",
   "metadata": {},
   "source": [
    "y값들은 랜덤하게 생성된 3차원의 x값과 계수들(\\[1.5, -2., 1.\\])을 곱함으로써 생성되었는데, Linear Regression을 통해서 이 계수들을 계산해 낼 수 있다는 것을 알 수 있다."
   ]
  }
 ],
 "metadata": {
  "kernelspec": {
   "display_name": "Python 3",
   "language": "python",
   "name": "python3"
  },
  "language_info": {
   "codemirror_mode": {
    "name": "ipython",
    "version": 3
   },
   "file_extension": ".py",
   "mimetype": "text/x-python",
   "name": "python",
   "nbconvert_exporter": "python",
   "pygments_lexer": "ipython3",
   "version": "3.9.5"
  }
 },
 "nbformat": 4,
 "nbformat_minor": 5
}
