{
 "cells": [
  {
   "cell_type": "code",
   "execution_count": 1,
   "id": "e0fc7364",
   "metadata": {},
   "outputs": [],
   "source": [
    "import sys\n",
    "assert sys.version_info >= (3, 5)\n",
    "\n",
    "import sklearn\n",
    "assert sklearn.__version__ >= \"0.20\"\n",
    "\n",
    "import numpy as np\n",
    "import os\n",
    "\n",
    "import matplotlib as mpl\n",
    "import matplotlib.pyplot as plt\n",
    "%matplotlib inline\n",
    "mpl.rc('axes', labelsize=14)\n",
    "mpl.rc('xtick', labelsize=12)\n",
    "mpl.rc('ytick', labelsize=12)\n",
    "\n",
    "import tarfile\n",
    "import urllib\n",
    "import pandas as pd\n",
    "\n",
    "random_seed = 42"
   ]
  },
  {
   "cell_type": "code",
   "execution_count": 2,
   "id": "8457d919",
   "metadata": {},
   "outputs": [],
   "source": [
    "from utils import load_housing_data, save_fig, CombinedAttributesAdder\n",
    "\n",
    "housing = load_housing_data()"
   ]
  },
  {
   "cell_type": "code",
   "execution_count": 3,
   "id": "f69ef267",
   "metadata": {},
   "outputs": [],
   "source": [
    "from sklearn.model_selection import train_test_split, StratifiedShuffleSplit\n",
    "\n",
    "# 연속적인 값은 카테고리로 Grouping\n",
    "housing[\"income_cat\"] = pd.cut(housing[\"median_income\"],\n",
    "                              bins=[0., 1.5, 3.0, 4.5, 6., np.inf],\n",
    "                              labels=[1, 2, 3, 4, 5])\n",
    "\n",
    "split = StratifiedShuffleSplit(n_splits=1, test_size=0.2, random_state=random_seed)\n",
    "for train_index, test_index in split.split(housing, housing[\"income_cat\"]) :\n",
    "    strat_train_set = housing.loc[train_index]\n",
    "    strat_test_set  = housing.loc[test_index]\n",
    "    \n",
    "train_set, test_set = train_test_split(housing, test_size=0.2, random_state=random_seed)\n",
    "\n",
    "housing = strat_train_set.copy()\n",
    "housing = strat_train_set.drop(\"median_house_value\", axis=1) # drop labels\n",
    "housing_labels = strat_train_set[\"median_house_value\"].copy()\n",
    "housing_num = housing.drop(\"ocean_proximity\", axis=1)"
   ]
  },
  {
   "cell_type": "code",
   "execution_count": 4,
   "id": "ca8cc5c2",
   "metadata": {},
   "outputs": [],
   "source": [
    "from sklearn.pipeline import Pipeline\n",
    "from sklearn.preprocessing import StandardScaler\n",
    "from sklearn.impute import SimpleImputer\n",
    "\n",
    "num_pipeline = Pipeline([\n",
    "    ('imputer', SimpleImputer(strategy=\"median\")),  ## Fit & Transformer\n",
    "    ('attribs_adder', CombinedAttributesAdder()),   ## Fit & Transformer\n",
    "    ('std_scaler', StandardScaler()),                 ## Fit\n",
    "])"
   ]
  },
  {
   "cell_type": "code",
   "execution_count": 5,
   "id": "80eec374",
   "metadata": {},
   "outputs": [],
   "source": [
    "from sklearn.compose import ColumnTransformer\n",
    "from sklearn.preprocessing import OneHotEncoder\n",
    "\n",
    "num_attribs = list(housing_num)\n",
    "cat_attribs = [\"ocean_proximity\"]\n",
    "\n",
    "full_pipeline = ColumnTransformer([\n",
    "    (\"num\", num_pipeline, num_attribs),\n",
    "    (\"cat\", OneHotEncoder(), cat_attribs),\n",
    "])\n",
    "\n",
    "housing_prepared = full_pipeline.fit_transform(housing)"
   ]
  },
  {
   "cell_type": "markdown",
   "id": "0c5c9693",
   "metadata": {},
   "source": [
    "## 5. 모델 훈련 (Train a Model)\n",
    "\n",
    "드디어 모델을 훈련시킬 준비가 되었습니다! \n",
    "#### 지난 시간에 배웠던 선형회귀모델(Linear Regression)을 사용해보겠습니다."
   ]
  },
  {
   "cell_type": "code",
   "execution_count": 6,
   "id": "ec25c234",
   "metadata": {},
   "outputs": [
    {
     "data": {
      "text/plain": [
       "LinearRegression()"
      ]
     },
     "execution_count": 6,
     "metadata": {},
     "output_type": "execute_result"
    }
   ],
   "source": [
    "from sklearn.linear_model import LinearRegression\n",
    "\n",
    "lin_reg = LinearRegression()\n",
    "lin_reg.fit(housing_prepared, housing_labels)"
   ]
  },
  {
   "cell_type": "markdown",
   "id": "f93a595d",
   "metadata": {},
   "source": [
    "모델 훈련은 딱 3줄의 코드면 충분합니다!\n",
    "\n",
    "몇 개의 샘플에 모델을 적용해 예측값을 확인해보고 실제값과 비교해보겠습니다."
   ]
  },
  {
   "cell_type": "code",
   "execution_count": 7,
   "id": "d638666d",
   "metadata": {},
   "outputs": [
    {
     "data": {
      "text/plain": [
       "array([-54137.20708781, -55013.28721161,  14392.68343212,  -4044.59678427,\n",
       "         8934.3560095 , -44845.68344469,  44884.77513654,  63514.86266688,\n",
       "        14179.47426921,   6474.20838974,    994.94379601,  10585.71987677,\n",
       "       -19784.87521119, -55494.63192495, 114626.55255433, -24057.75380645,\n",
       "       -15289.29161173])"
      ]
     },
     "execution_count": 7,
     "metadata": {},
     "output_type": "execute_result"
    }
   ],
   "source": [
    "lin_reg.coef_"
   ]
  },
  {
   "cell_type": "code",
   "execution_count": 8,
   "id": "d78ece6b",
   "metadata": {},
   "outputs": [
    {
     "data": {
      "text/plain": [
       "[(114626.55255432795, 'ISLAND'),\n",
       " (63514.86266687522, 'median_income'),\n",
       " (44884.775136536126, 'households'),\n",
       " (14392.683432117343, 'housing_median_age'),\n",
       " (14179.474269208375, 'income_cat'),\n",
       " (10585.719876767198, 'bedrooms_per_room'),\n",
       " (8934.35600949974, 'total_bedrooms'),\n",
       " (6474.208389735375, 'rooms_per_hhold'),\n",
       " (994.9437960060471, 'pop_per_hhold'),\n",
       " (-4044.596784266778, 'total_rooms'),\n",
       " (-15289.291611731773, 'NEAR OCEAN'),\n",
       " (-19784.875211193415, '<1H OCEAN'),\n",
       " (-24057.753806449313, 'NEAR BAY'),\n",
       " (-44845.68344469058, 'population'),\n",
       " (-54137.20708780599, 'longitude'),\n",
       " (-55013.287211605086, 'latitude'),\n",
       " (-55494.63192495342, 'INLAND')]"
      ]
     },
     "execution_count": 8,
     "metadata": {},
     "output_type": "execute_result"
    }
   ],
   "source": [
    "extra_attribs = [\"rooms_per_hhold\", \"pop_per_hhold\", \"bedrooms_per_room\"]\n",
    "cat_encoder   = full_pipeline.named_transformers_[\"cat\"]\n",
    "cat_one_hot_attribs = list(cat_encoder.categories_[0])\n",
    "attributes    = num_attribs + extra_attribs + cat_one_hot_attribs\n",
    "sorted(zip(lin_reg.coef_, attributes), reverse=True)\n",
    "\n",
    "## coef의 절댓값이 높을수록 집 가격에 영향 많이 줌 (양의 값은 집값 높고, 음의 값은 집값 낮고) \n",
    "## -> 계수들의 크기만 가지고 반드시 중요하다 안 중요하다 판단하면 안됨"
   ]
  },
  {
   "cell_type": "code",
   "execution_count": 9,
   "id": "84fdec57",
   "metadata": {},
   "outputs": [
    {
     "name": "stdout",
     "output_type": "stream",
     "text": [
      "Predictions: [203682.4 326371.4 204218.6  58685.5 194213.1]\n"
     ]
    }
   ],
   "source": [
    "# 몇 개의 샘플에 대해 데이터 변환 및 예측을 해보자\n",
    "some_data   = housing.iloc[:5]\n",
    "some_labels = housing_labels.iloc[:5]\n",
    "some_data_prepared = full_pipeline.transform(some_data)\n",
    "\n",
    "print(\"Predictions:\", lin_reg.predict(some_data_prepared).round(decimals=1))"
   ]
  },
  {
   "cell_type": "code",
   "execution_count": 10,
   "id": "17a6e9a6",
   "metadata": {},
   "outputs": [
    {
     "name": "stdout",
     "output_type": "stream",
     "text": [
      "Labels: [286600.0, 340600.0, 196900.0, 46300.0, 254500.0]\n"
     ]
    }
   ],
   "source": [
    "print(\"Labels:\", list(some_labels))"
   ]
  },
  {
   "cell_type": "markdown",
   "id": "a46d0e69",
   "metadata": {},
   "source": [
    "전체 훈련 데이터셋에 대한 RMSE를 측정해 보겠습니다."
   ]
  },
  {
   "cell_type": "code",
   "execution_count": 11,
   "id": "c6ce7d37",
   "metadata": {},
   "outputs": [
    {
     "data": {
      "text/plain": [
       "68376.64295459939"
      ]
     },
     "execution_count": 11,
     "metadata": {},
     "output_type": "execute_result"
    }
   ],
   "source": [
    "from sklearn.metrics import mean_squared_error\n",
    "\n",
    "housing_predictions = lin_reg.predict(housing_prepared)\n",
    "lin_mse  = mean_squared_error(housing_labels, housing_predictions)\n",
    "lin_rmse = np.sqrt(lin_mse)\n",
    "lin_rmse   ## 약 7만불 = 8000만원"
   ]
  },
  {
   "cell_type": "markdown",
   "id": "2e95bb96",
   "metadata": {},
   "source": [
    "훈련 데이터셋의 RMSE가 이 경우처럼 큰 경우 => 과소 적합 (Under-fitting)\n",
    "\n",
    "과소 적합이 일어나는 이유?\n",
    "- 특성들(Features)이 충분한 정보를 제공하지 못함\n",
    "- 모델이 충분히 강력하지 못함"
   ]
  },
  {
   "cell_type": "markdown",
   "id": "6a601182",
   "metadata": {},
   "source": [
    "#### 강력한 비선형모델인 DecisionTreeRegressor를 사용해보겠습니다."
   ]
  },
  {
   "cell_type": "code",
   "execution_count": 12,
   "id": "61f01ee0",
   "metadata": {},
   "outputs": [
    {
     "data": {
      "text/plain": [
       "DecisionTreeRegressor(random_state=42)"
      ]
     },
     "execution_count": 12,
     "metadata": {},
     "output_type": "execute_result"
    }
   ],
   "source": [
    "from sklearn.tree import DecisionTreeRegressor\n",
    "\n",
    "tree_reg = DecisionTreeRegressor(random_state = random_seed)\n",
    "tree_reg.fit(housing_prepared, housing_labels)"
   ]
  },
  {
   "cell_type": "code",
   "execution_count": 13,
   "id": "41d5b138",
   "metadata": {},
   "outputs": [
    {
     "data": {
      "text/plain": [
       "0.0"
      ]
     },
     "execution_count": 13,
     "metadata": {},
     "output_type": "execute_result"
    }
   ],
   "source": [
    "housing_predictions = tree_reg.predict(housing_prepared)\n",
    "tree_mse  = mean_squared_error(housing_labels, housing_predictions)\n",
    "tree_rmse = np.sqrt(tree_mse)\n",
    "tree_rmse"
   ]
  },
  {
   "cell_type": "markdown",
   "id": "245adb1c",
   "metadata": {},
   "source": [
    "이 모델이 선형모델보다 낫다고 말할 수 있을까요? 어떻게 알 수 있을까요? Over-fitting일 가능성 있음\n",
    "\n",
    "- 테스트 데이터셋을 이용한 검증\n",
    "- 훈련 데이터셋의 일부를 검증데이터(Validation Data)셋으로 분리해서 검증\n",
    "- K-겹 교차 검증 (K-folded Cross Validation)"
   ]
  },
  {
   "cell_type": "markdown",
   "id": "bb8a0e89",
   "metadata": {},
   "source": [
    "### 교차 검증(Cross-Validation)을 사용한 평가"
   ]
  },
  {
   "cell_type": "markdown",
   "id": "60ddf83b",
   "metadata": {},
   "source": [
    "#### 결정트리 모델에 대한 평가"
   ]
  },
  {
   "cell_type": "code",
   "execution_count": 14,
   "id": "bc9eb228",
   "metadata": {},
   "outputs": [],
   "source": [
    "from sklearn.model_selection import cross_val_score\n",
    "\n",
    "scores = cross_val_score(tree_reg, housing_prepared, housing_labels,\n",
    "                        scoring=\"neg_mean_squared_error\", cv=10)\n",
    "tree_rmse_scores = np.sqrt(-scores)"
   ]
  },
  {
   "cell_type": "code",
   "execution_count": 15,
   "id": "1ba506ec",
   "metadata": {},
   "outputs": [
    {
     "name": "stdout",
     "output_type": "stream",
     "text": [
      "Scores : [70274.7991723  67258.3624668  71350.42593227 68882.91340979\n",
      " 70987.99296566 74177.52037059 70788.57311306 70850.53018019\n",
      " 76430.62239321 70212.6471067 ]\n",
      "Mean : 71121.4387110585\n",
      "Standard Deviation : 2434.3080046605132\n"
     ]
    }
   ],
   "source": [
    "def display_scores(scores) : #{\n",
    "    print(\"Scores :\", scores)\n",
    "    print(\"Mean :\", scores.mean())\n",
    "    print(\"Standard Deviation :\", scores.std())\n",
    "#}\n",
    "\n",
    "display_scores(tree_rmse_scores)"
   ]
  },
  {
   "cell_type": "markdown",
   "id": "063d04d3",
   "metadata": {},
   "source": [
    "#### 선형 모델에 대한 평가"
   ]
  },
  {
   "cell_type": "code",
   "execution_count": 16,
   "id": "9493f264",
   "metadata": {},
   "outputs": [
    {
     "name": "stdout",
     "output_type": "stream",
     "text": [
      "Scores : [66877.52325028 66608.120256   70575.91118868 74179.94799352\n",
      " 67683.32205678 71103.16843468 64782.65896552 67711.29940352\n",
      " 71080.40484136 67687.6384546 ]\n",
      "Mean : 68828.99948449328\n",
      "Standard Deviation : 2662.761570610338\n"
     ]
    }
   ],
   "source": [
    "scores = cross_val_score(lin_reg, housing_prepared, housing_labels,\n",
    "                        scoring=\"neg_mean_squared_error\", cv=10)\n",
    "lin_rmse_scores = np.sqrt(-scores)\n",
    "display_scores(lin_rmse_scores)"
   ]
  },
  {
   "cell_type": "markdown",
   "id": "20474e82",
   "metadata": {},
   "source": [
    "#### RandomForestRegressor에 대한 평가\n",
    "\n",
    "나무가 여러개 있는 숲과 같은 모델"
   ]
  },
  {
   "cell_type": "code",
   "execution_count": 17,
   "id": "ca9e6f0a",
   "metadata": {},
   "outputs": [
    {
     "data": {
      "text/plain": [
       "RandomForestRegressor(random_state=42)"
      ]
     },
     "execution_count": 17,
     "metadata": {},
     "output_type": "execute_result"
    }
   ],
   "source": [
    "from sklearn.ensemble import RandomForestRegressor\n",
    "\n",
    "forest_reg = RandomForestRegressor(n_estimators=100, random_state=random_seed)\n",
    "forest_reg.fit(housing_prepared, housing_labels)"
   ]
  },
  {
   "cell_type": "code",
   "execution_count": 19,
   "id": "adf75a12",
   "metadata": {},
   "outputs": [
    {
     "name": "stdout",
     "output_type": "stream",
     "text": [
      "Scores : [49633.454487   47565.18736589 50034.52343496 52444.25008076\n",
      " 49463.18392461 53515.10766804 48577.59023701 47678.90315126\n",
      " 53433.75372939 49947.64462367]\n",
      "Mean : 50229.359870258486\n",
      "Standard Deviation : 2082.3174179664184\n"
     ]
    }
   ],
   "source": [
    "from sklearn.model_selection import cross_val_score\n",
    "\n",
    "forest_scores = cross_val_score(forest_reg, housing_prepared, housing_labels,\n",
    "                        scoring=\"neg_mean_squared_error\", cv=10)\n",
    "forest_rmse_scores = np.sqrt(-forest_scores)\n",
    "display_scores(forest_rmse_scores)"
   ]
  }
 ],
 "metadata": {
  "kernelspec": {
   "display_name": "Python 3",
   "language": "python",
   "name": "python3"
  },
  "language_info": {
   "codemirror_mode": {
    "name": "ipython",
    "version": 3
   },
   "file_extension": ".py",
   "mimetype": "text/x-python",
   "name": "python",
   "nbconvert_exporter": "python",
   "pygments_lexer": "ipython3",
   "version": "3.9.4"
  }
 },
 "nbformat": 4,
 "nbformat_minor": 5
}
