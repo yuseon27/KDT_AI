{
 "cells": [
  {
   "cell_type": "code",
   "execution_count": 1,
   "metadata": {
    "executionInfo": {
     "elapsed": 402,
     "status": "ok",
     "timestamp": 1624256760975,
     "user": {
      "displayName": "ys Nam",
      "photoUrl": "",
      "userId": "07686574773364436479"
     },
     "user_tz": -540
    },
    "id": "82i4sHjFsnbS"
   },
   "outputs": [],
   "source": [
    "%matplotlib inline"
   ]
  },
  {
   "cell_type": "markdown",
   "metadata": {
    "id": "uCg5X3BvsnbW"
   },
   "source": [
    "\n",
    "What is PyTorch?\n",
    "================\n",
    "\n",
    "Python 기반의 과학 연산 패키지로 다음과 같은 두 집단을 대상으로 합니다:\n",
    "\n",
    "-  NumPy를 대체하면서 GPU를 이용한 연산이 필요한 경우\n",
    "-  최대한의 유연성과 속도를 제공하는 딥러닝 연구 플랫폼이 필요한 경우\n",
    "\n",
    "Getting Started\n",
    "---------------\n",
    "\n",
    "Tensor는 NumPy의 ndarray와 유사하며, 추가로 GPU를 사용한 연산 가속도 가능합니다.\n",
    "\n"
   ]
  },
  {
   "cell_type": "code",
   "execution_count": 2,
   "metadata": {
    "colab": {
     "base_uri": "https://localhost:8080/",
     "height": 35
    },
    "executionInfo": {
     "elapsed": 690,
     "status": "ok",
     "timestamp": 1624256761661,
     "user": {
      "displayName": "ys Nam",
      "photoUrl": "",
      "userId": "07686574773364436479"
     },
     "user_tz": -540
    },
    "id": "ZZoDnlxosnbX",
    "outputId": "a195b5a2-026e-45a0-a82f-7cedcfddf185"
   },
   "outputs": [
    {
     "data": {
      "application/vnd.google.colaboratory.intrinsic+json": {
       "type": "string"
      },
      "text/plain": [
       "'1.9.0+cu102'"
      ]
     },
     "execution_count": 2,
     "metadata": {
      "tags": []
     },
     "output_type": "execute_result"
    }
   ],
   "source": [
    "from __future__ import print_function\n",
    "import torch\n",
    "\n",
    "torch.__version__"
   ]
  },
  {
   "cell_type": "markdown",
   "metadata": {
    "id": "emUXTaC5snba"
   },
   "source": [
    "초기화되지 않은 5x3 행렬을 생성합니다:\n",
    "\n"
   ]
  },
  {
   "cell_type": "code",
   "execution_count": 3,
   "metadata": {
    "colab": {
     "base_uri": "https://localhost:8080/"
    },
    "executionInfo": {
     "elapsed": 45,
     "status": "ok",
     "timestamp": 1624256761661,
     "user": {
      "displayName": "ys Nam",
      "photoUrl": "",
      "userId": "07686574773364436479"
     },
     "user_tz": -540
    },
    "id": "LsX9dpsnsnba",
    "outputId": "02b1148e-7b7c-468f-d38d-90ca52370000"
   },
   "outputs": [
    {
     "name": "stdout",
     "output_type": "stream",
     "text": [
      "tensor([[1.8737e+16, 3.0897e-41, 3.3631e-44],\n",
      "        [0.0000e+00,        nan, 3.0897e-41],\n",
      "        [1.1578e+27, 1.1362e+30, 7.1547e+22],\n",
      "        [4.5828e+30, 1.2121e+04, 7.1846e+22],\n",
      "        [9.2198e-39, 7.0374e+22, 5.2896e+15]])\n"
     ]
    }
   ],
   "source": [
    "x = torch.empty(5, 3)\n",
    "print(x)"
   ]
  },
  {
   "cell_type": "markdown",
   "metadata": {
    "id": "DuS8_CjRsnbe"
   },
   "source": [
    "무작위로 초기화된 행렬을 생성합니다:\n",
    "\n"
   ]
  },
  {
   "cell_type": "code",
   "execution_count": 4,
   "metadata": {
    "colab": {
     "base_uri": "https://localhost:8080/"
    },
    "executionInfo": {
     "elapsed": 43,
     "status": "ok",
     "timestamp": 1624256761662,
     "user": {
      "displayName": "ys Nam",
      "photoUrl": "",
      "userId": "07686574773364436479"
     },
     "user_tz": -540
    },
    "id": "-gDc29L4snbf",
    "outputId": "065e72b8-0919-47ca-d9e6-18efcbf6a708"
   },
   "outputs": [
    {
     "name": "stdout",
     "output_type": "stream",
     "text": [
      "tensor([[-2.6782, -0.5167, -1.5483],\n",
      "        [-0.8139, -0.1170,  1.2147],\n",
      "        [ 0.3990, -1.9658,  0.2447],\n",
      "        [-0.3107, -1.1207, -0.7998],\n",
      "        [ 0.7152, -0.9918, -1.1539]])\n",
      "tensor([[0.5796, 0.5702, 0.5492],\n",
      "        [0.1340, 0.0287, 0.0405],\n",
      "        [0.1246, 0.2136, 0.1621],\n",
      "        [0.1370, 0.2503, 0.0521],\n",
      "        [0.1358, 0.5456, 0.2690]])\n"
     ]
    }
   ],
   "source": [
    "x = torch.randn(5, 3)   # random + normal_distribution\n",
    "print(x)\n",
    "x = torch.rand(5, 3)    # random (0~1)\n",
    "print(x)"
   ]
  },
  {
   "cell_type": "markdown",
   "metadata": {
    "id": "EnDW3xa2snbh"
   },
   "source": [
    "dtype이 long이고 0으로 채워진 행렬을 생성합니다:\n",
    "\n"
   ]
  },
  {
   "cell_type": "code",
   "execution_count": 5,
   "metadata": {
    "colab": {
     "base_uri": "https://localhost:8080/"
    },
    "executionInfo": {
     "elapsed": 41,
     "status": "ok",
     "timestamp": 1624256761662,
     "user": {
      "displayName": "ys Nam",
      "photoUrl": "",
      "userId": "07686574773364436479"
     },
     "user_tz": -540
    },
    "id": "ooNlMfAIsnbi",
    "outputId": "b95492bf-bc48-4102-bda7-8d560aa64727"
   },
   "outputs": [
    {
     "name": "stdout",
     "output_type": "stream",
     "text": [
      "tensor([[0, 0, 0],\n",
      "        [0, 0, 0],\n",
      "        [0, 0, 0],\n",
      "        [0, 0, 0],\n",
      "        [0, 0, 0]])\n"
     ]
    }
   ],
   "source": [
    "x = torch.zeros(5, 3, dtype=torch.long)\n",
    "print(x)"
   ]
  },
  {
   "cell_type": "code",
   "execution_count": 6,
   "metadata": {
    "colab": {
     "base_uri": "https://localhost:8080/"
    },
    "executionInfo": {
     "elapsed": 40,
     "status": "ok",
     "timestamp": 1624256761663,
     "user": {
      "displayName": "ys Nam",
      "photoUrl": "",
      "userId": "07686574773364436479"
     },
     "user_tz": -540
    },
    "id": "AkcOHXD9KCyq",
    "outputId": "ea7e6749-2574-415c-9e67-d7d7b143f681"
   },
   "outputs": [
    {
     "name": "stdout",
     "output_type": "stream",
     "text": [
      "tensor([[1, 1, 1],\n",
      "        [1, 1, 1],\n",
      "        [1, 1, 1],\n",
      "        [1, 1, 1],\n",
      "        [1, 1, 1]])\n"
     ]
    }
   ],
   "source": [
    "x = torch.ones(5, 3, dtype=torch.long)\n",
    "print(x)"
   ]
  },
  {
   "cell_type": "markdown",
   "metadata": {
    "id": "yrjRCiCZsnbk"
   },
   "source": [
    "데이터로부터 tensor를 직접 생성합니다:\n",
    "\n"
   ]
  },
  {
   "cell_type": "code",
   "execution_count": 7,
   "metadata": {
    "colab": {
     "base_uri": "https://localhost:8080/"
    },
    "executionInfo": {
     "elapsed": 38,
     "status": "ok",
     "timestamp": 1624256761663,
     "user": {
      "displayName": "ys Nam",
      "photoUrl": "",
      "userId": "07686574773364436479"
     },
     "user_tz": -540
    },
    "id": "nc0Xx93Nsnbk",
    "outputId": "ccaef0f1-0187-4cfb-d638-e4705f010284"
   },
   "outputs": [
    {
     "name": "stdout",
     "output_type": "stream",
     "text": [
      "tensor([5.5000, 3.0000])\n"
     ]
    }
   ],
   "source": [
    "x = torch.tensor([5.5, 3])\n",
    "print(x)"
   ]
  },
  {
   "cell_type": "markdown",
   "metadata": {
    "id": "dXeA4TPFsnbn"
   },
   "source": [
    "또는 존재하는 tensor를 바탕으로 tensor를 만듭니다. \n",
    "이 메소드(method)들은 사용자로부터 제공된 새로운 값이 없는 한, 입력 tensor의 속성들(예. dtype)을 재사용합니다.\n"
   ]
  },
  {
   "cell_type": "code",
   "execution_count": 8,
   "metadata": {
    "colab": {
     "base_uri": "https://localhost:8080/"
    },
    "executionInfo": {
     "elapsed": 37,
     "status": "ok",
     "timestamp": 1624256761663,
     "user": {
      "displayName": "ys Nam",
      "photoUrl": "",
      "userId": "07686574773364436479"
     },
     "user_tz": -540
    },
    "id": "BpiM1li7snbn",
    "outputId": "7a293088-54aa-44c3-dd1f-3da5873320f5"
   },
   "outputs": [
    {
     "name": "stdout",
     "output_type": "stream",
     "text": [
      "tensor([[1., 1., 1.],\n",
      "        [1., 1., 1.],\n",
      "        [1., 1., 1.],\n",
      "        [1., 1., 1.],\n",
      "        [1., 1., 1.]], dtype=torch.float64)\n",
      "tensor([[ 0.7685, -1.4074, -0.2346],\n",
      "        [-0.4660, -0.1501,  0.5061],\n",
      "        [-0.9777, -1.0822,  1.5269],\n",
      "        [ 0.8841, -0.3329,  0.6461],\n",
      "        [-2.4796, -3.4714, -1.5277]])\n"
     ]
    }
   ],
   "source": [
    "x = x.new_ones(5, 3, dtype=torch.double)      # new_* methods take in sizes  # 이미 존재하는 Tensor를 새로운 Tensor로 바꿈\n",
    "print(x)\n",
    "\n",
    "x = torch.randn_like(x, dtype=torch.float)    # override dtype!\n",
    "print(x)                                      # result has the same size"
   ]
  },
  {
   "cell_type": "markdown",
   "metadata": {
    "id": "F6kOn4Oosnbq"
   },
   "source": [
    "행렬의 크기를 구합니다:\n",
    "\n"
   ]
  },
  {
   "cell_type": "code",
   "execution_count": 9,
   "metadata": {
    "colab": {
     "base_uri": "https://localhost:8080/"
    },
    "executionInfo": {
     "elapsed": 35,
     "status": "ok",
     "timestamp": 1624256761664,
     "user": {
      "displayName": "ys Nam",
      "photoUrl": "",
      "userId": "07686574773364436479"
     },
     "user_tz": -540
    },
    "id": "1bXCTCXpsnbq",
    "outputId": "1703a063-10ef-4713-908a-eefd55154ae0"
   },
   "outputs": [
    {
     "name": "stdout",
     "output_type": "stream",
     "text": [
      "torch.Size([5, 3])\n",
      "torch.Size([5, 3])\n"
     ]
    }
   ],
   "source": [
    "print(x.size())   ## 함수\n",
    "print(x.shape)    ## size()와 같은 결과"
   ]
  },
  {
   "cell_type": "markdown",
   "metadata": {
    "id": "Jq9jZCRKsnbu"
   },
   "source": [
    "\n",
    "덧셈: 문법1"
   ]
  },
  {
   "cell_type": "code",
   "execution_count": 10,
   "metadata": {
    "colab": {
     "base_uri": "https://localhost:8080/"
    },
    "executionInfo": {
     "elapsed": 33,
     "status": "ok",
     "timestamp": 1624256761664,
     "user": {
      "displayName": "ys Nam",
      "photoUrl": "",
      "userId": "07686574773364436479"
     },
     "user_tz": -540
    },
    "id": "uCWXyD2Hsnbu",
    "outputId": "23027f0c-c98b-42f2-d643-0a8cd3e58a50"
   },
   "outputs": [
    {
     "name": "stdout",
     "output_type": "stream",
     "text": [
      "tensor([[ 0.7685, -1.4074, -0.2346],\n",
      "        [-0.4660, -0.1501,  0.5061],\n",
      "        [-0.9777, -1.0822,  1.5269],\n",
      "        [ 0.8841, -0.3329,  0.6461],\n",
      "        [-2.4796, -3.4714, -1.5277]])\n",
      "tensor([[0.5696, 0.0406, 0.7294],\n",
      "        [0.7165, 0.4696, 0.1565],\n",
      "        [0.1043, 0.9707, 0.8708],\n",
      "        [0.8764, 0.3811, 0.6878],\n",
      "        [0.8825, 0.6563, 0.9978]])\n",
      "tensor([[ 1.3380, -1.3669,  0.4948],\n",
      "        [ 0.2505,  0.3195,  0.6626],\n",
      "        [-0.8734, -0.1116,  2.3976],\n",
      "        [ 1.7605,  0.0482,  1.3340],\n",
      "        [-1.5971, -2.8151, -0.5299]])\n"
     ]
    }
   ],
   "source": [
    "y = torch.rand(5, 3)\n",
    "print(x)\n",
    "print(y)\n",
    "print(x + y)"
   ]
  },
  {
   "cell_type": "markdown",
   "metadata": {
    "id": "DFu4Lo3csnbx"
   },
   "source": [
    "덧셈: 문법2\n",
    "\n"
   ]
  },
  {
   "cell_type": "code",
   "execution_count": 11,
   "metadata": {
    "colab": {
     "base_uri": "https://localhost:8080/"
    },
    "executionInfo": {
     "elapsed": 32,
     "status": "ok",
     "timestamp": 1624256761665,
     "user": {
      "displayName": "ys Nam",
      "photoUrl": "",
      "userId": "07686574773364436479"
     },
     "user_tz": -540
    },
    "id": "DzKHzVOBsnbx",
    "outputId": "dfcfa969-621c-4ec1-e253-99a25b6be0d3"
   },
   "outputs": [
    {
     "name": "stdout",
     "output_type": "stream",
     "text": [
      "tensor([[ 1.3380, -1.3669,  0.4948],\n",
      "        [ 0.2505,  0.3195,  0.6626],\n",
      "        [-0.8734, -0.1116,  2.3976],\n",
      "        [ 1.7605,  0.0482,  1.3340],\n",
      "        [-1.5971, -2.8151, -0.5299]])\n"
     ]
    }
   ],
   "source": [
    "print(torch.add(x, y))"
   ]
  },
  {
   "cell_type": "markdown",
   "metadata": {
    "id": "Ovk3r-8Psnbz"
   },
   "source": [
    "덧셈: 결과 tensor를 인자로 제공\n"
   ]
  },
  {
   "cell_type": "code",
   "execution_count": 12,
   "metadata": {
    "colab": {
     "base_uri": "https://localhost:8080/"
    },
    "executionInfo": {
     "elapsed": 30,
     "status": "ok",
     "timestamp": 1624256761665,
     "user": {
      "displayName": "ys Nam",
      "photoUrl": "",
      "userId": "07686574773364436479"
     },
     "user_tz": -540
    },
    "id": "ZOB9erkpsnbz",
    "outputId": "00baff36-26c4-402e-9167-c849d9b6cb2d"
   },
   "outputs": [
    {
     "name": "stdout",
     "output_type": "stream",
     "text": [
      "tensor([[ 1.8738e+16,  3.0897e-41,  4.9480e-01],\n",
      "        [ 2.5052e-01,  3.1947e-01,  6.6260e-01],\n",
      "        [-8.7340e-01, -1.1156e-01,  2.3976e+00],\n",
      "        [ 1.7605e+00,  4.8231e-02,  1.3340e+00],\n",
      "        [-1.5971e+00, -2.8151e+00, -5.2986e-01]])\n",
      "tensor([[ 1.3380, -1.3669,  0.4948],\n",
      "        [ 0.2505,  0.3195,  0.6626],\n",
      "        [-0.8734, -0.1116,  2.3976],\n",
      "        [ 1.7605,  0.0482,  1.3340],\n",
      "        [-1.5971, -2.8151, -0.5299]])\n"
     ]
    }
   ],
   "source": [
    "result = torch.empty(5, 3)\n",
    "print(result)\n",
    "\n",
    "torch.add(x, y, out=result)\n",
    "print(result)"
   ]
  },
  {
   "cell_type": "markdown",
   "metadata": {
    "id": "HN2T-jLrsnb1"
   },
   "source": [
    "덧셈: 바꿔치기(In-place) 방식\n"
   ]
  },
  {
   "cell_type": "code",
   "execution_count": 13,
   "metadata": {
    "colab": {
     "base_uri": "https://localhost:8080/"
    },
    "executionInfo": {
     "elapsed": 28,
     "status": "ok",
     "timestamp": 1624256761665,
     "user": {
      "displayName": "ys Nam",
      "photoUrl": "",
      "userId": "07686574773364436479"
     },
     "user_tz": -540
    },
    "id": "Lf3t8CEHsnb2",
    "outputId": "60f0eff3-2da4-40c9-a830-99e18f9e22f2"
   },
   "outputs": [
    {
     "name": "stdout",
     "output_type": "stream",
     "text": [
      "tensor([[0.5696, 0.0406, 0.7294],\n",
      "        [0.7165, 0.4696, 0.1565],\n",
      "        [0.1043, 0.9707, 0.8708],\n",
      "        [0.8764, 0.3811, 0.6878],\n",
      "        [0.8825, 0.6563, 0.9978]])\n",
      "tensor([[ 1.3380, -1.3669,  0.4948],\n",
      "        [ 0.2505,  0.3195,  0.6626],\n",
      "        [-0.8734, -0.1116,  2.3976],\n",
      "        [ 1.7605,  0.0482,  1.3340],\n",
      "        [-1.5971, -2.8151, -0.5299]])\n"
     ]
    }
   ],
   "source": [
    "# adds x to y   (y = y + x)\n",
    "print(y)\n",
    "y.add_(x)\n",
    "print(y)"
   ]
  },
  {
   "cell_type": "markdown",
   "metadata": {
    "id": "Otzt2-mMsnb4"
   },
   "source": [
    "#### 바꿔치기(In-place) 방식으로 tensor의 값을 변경하는 연산은 _ 를 접미사로 갖습니다.\n",
    "예: x.copy_(y), x.t_() 는 x 를 변경합니다.\n",
    "\n",
    "NumPy스러운 인덱싱 표기 방법을 사용할 수도 있습니다!\n"
   ]
  },
  {
   "cell_type": "code",
   "execution_count": 14,
   "metadata": {
    "colab": {
     "base_uri": "https://localhost:8080/"
    },
    "executionInfo": {
     "elapsed": 26,
     "status": "ok",
     "timestamp": 1624256761666,
     "user": {
      "displayName": "ys Nam",
      "photoUrl": "",
      "userId": "07686574773364436479"
     },
     "user_tz": -540
    },
    "id": "kKg180otsnb4",
    "outputId": "b4c2eb75-d98c-4037-8025-b9c20bf8b856"
   },
   "outputs": [
    {
     "name": "stdout",
     "output_type": "stream",
     "text": [
      "tensor([[ 0.7685, -1.4074, -0.2346],\n",
      "        [-0.4660, -0.1501,  0.5061],\n",
      "        [-0.9777, -1.0822,  1.5269],\n",
      "        [ 0.8841, -0.3329,  0.6461],\n",
      "        [-2.4796, -3.4714, -1.5277]])\n",
      "tensor([-1.4074, -0.1501, -1.0822, -0.3329, -3.4714])\n"
     ]
    }
   ],
   "source": [
    "print(x)\n",
    "print(x[:, 1])"
   ]
  },
  {
   "cell_type": "markdown",
   "metadata": {
    "id": "FDLx9bI3snb7"
   },
   "source": [
    "크기 변경: tensor의 크기(size)나 모양(shape)을 변경하고 싶다면 torch.view 를 사용합니다:\n"
   ]
  },
  {
   "cell_type": "code",
   "execution_count": 15,
   "metadata": {
    "colab": {
     "base_uri": "https://localhost:8080/"
    },
    "executionInfo": {
     "elapsed": 24,
     "status": "ok",
     "timestamp": 1624256761666,
     "user": {
      "displayName": "ys Nam",
      "photoUrl": "",
      "userId": "07686574773364436479"
     },
     "user_tz": -540
    },
    "id": "DBjVLCv5snb7",
    "outputId": "634a115c-57ee-4012-c8ab-752b77e43484"
   },
   "outputs": [
    {
     "name": "stdout",
     "output_type": "stream",
     "text": [
      "tensor([[ 0.2498, -0.1316,  1.4055,  0.2392],\n",
      "        [ 0.7750,  0.5547,  0.7937,  1.7463],\n",
      "        [ 1.4802,  1.4177, -1.1218, -1.1751],\n",
      "        [ 1.2544, -0.8358,  1.2709,  1.3586]])\n",
      "tensor([ 0.2498, -0.1316,  1.4055,  0.2392,  0.7750,  0.5547,  0.7937,  1.7463,\n",
      "         1.4802,  1.4177, -1.1218, -1.1751,  1.2544, -0.8358,  1.2709,  1.3586])\n",
      "tensor([[ 0.2498, -0.1316],\n",
      "        [ 1.4055,  0.2392],\n",
      "        [ 0.7750,  0.5547],\n",
      "        [ 0.7937,  1.7463],\n",
      "        [ 1.4802,  1.4177],\n",
      "        [-1.1218, -1.1751],\n",
      "        [ 1.2544, -0.8358],\n",
      "        [ 1.2709,  1.3586]])\n",
      "torch.Size([16]) torch.Size([8, 2])\n"
     ]
    }
   ],
   "source": [
    "x = torch.randn(4, 4)\n",
    "print(x)\n",
    "\n",
    "y = x.view(16)     ## 16개의 차원을 가진 벡터의 형태로 쭉 늘리겠다. 쭉 피겠다.\n",
    "z = y.view(-1, 2)  # the size -1 is inferred from other dimensions   ## y로 펴 있는 벡터를 -1 : 자동으로 남는 것으로 결정, 2 : column의 개수\n",
    "print(y)\n",
    "print(z)\n",
    "print(y.size(), z.size())"
   ]
  },
  {
   "cell_type": "markdown",
   "metadata": {
    "id": "dDDWiXtXsnb9"
   },
   "source": [
    "만약 tensor에 하나의 값만 존재한다면, .item() 을 사용하면 숫자 값을 얻을 수 있습니다.\n",
    "\n"
   ]
  },
  {
   "cell_type": "code",
   "execution_count": 16,
   "metadata": {
    "colab": {
     "base_uri": "https://localhost:8080/"
    },
    "executionInfo": {
     "elapsed": 22,
     "status": "ok",
     "timestamp": 1624256761666,
     "user": {
      "displayName": "ys Nam",
      "photoUrl": "",
      "userId": "07686574773364436479"
     },
     "user_tz": -540
    },
    "id": "WIhw3GDfsnb-",
    "outputId": "8f573aa7-09dc-43c0-e43b-cf1fd3b763fe"
   },
   "outputs": [
    {
     "name": "stdout",
     "output_type": "stream",
     "text": [
      "tensor([-0.3591])\n",
      "<class 'torch.Tensor'> <class 'float'>\n",
      "-0.35909929871559143\n"
     ]
    }
   ],
   "source": [
    "x = torch.randn(1)\n",
    "print(x)\n",
    "print(type(x), type(x.item()))\n",
    "print(x.item())\n"
   ]
  },
  {
   "cell_type": "markdown",
   "metadata": {
    "id": "_qy7VEshsncB"
   },
   "source": [
    "**읽을 거리:**\n",
    "\n",
    "\n",
    "  전치(transposing), 인덱싱(indexing), 슬라이싱(slicing), 수학 계산, 선형 대수, 난수(random number) 등과 같은 100가지 이상의 Tensor 연산은\n",
    "  `여기 <http://pytorch.org/docs/torch>` 에 설명되어 있습니다.\n",
    "\n",
    "NumPy 변환(Bridge)\n",
    "------------\n",
    "\n",
    "Torch Tensor를 NumPy 배열(array)로 변환하거나, 그 반대로 하는 것은 매우 쉽습니다.\n",
    "\n",
    "(CPU 상의) Torch Tensor와 NumPy 배열은 저장 공간을 공유하기 때문에, 하나를 변경하면 다른 하나도 변경됩니다.\n",
    "\n",
    "- Torch Tensor를 NumPy 배열로 변환하기\n",
    "\n"
   ]
  },
  {
   "cell_type": "code",
   "execution_count": 17,
   "metadata": {
    "colab": {
     "base_uri": "https://localhost:8080/"
    },
    "executionInfo": {
     "elapsed": 21,
     "status": "ok",
     "timestamp": 1624256761667,
     "user": {
      "displayName": "ys Nam",
      "photoUrl": "",
      "userId": "07686574773364436479"
     },
     "user_tz": -540
    },
    "id": "rPKFva3ssncB",
    "outputId": "ecc87410-3861-4fc0-ce6b-19366e1aa4f4"
   },
   "outputs": [
    {
     "name": "stdout",
     "output_type": "stream",
     "text": [
      "tensor([1., 1., 1., 1., 1.])\n"
     ]
    }
   ],
   "source": [
    "a = torch.ones(5)\n",
    "print(a)"
   ]
  },
  {
   "cell_type": "code",
   "execution_count": 18,
   "metadata": {
    "colab": {
     "base_uri": "https://localhost:8080/"
    },
    "executionInfo": {
     "elapsed": 20,
     "status": "ok",
     "timestamp": 1624256761668,
     "user": {
      "displayName": "ys Nam",
      "photoUrl": "",
      "userId": "07686574773364436479"
     },
     "user_tz": -540
    },
    "id": "ZCPCzALIsncD",
    "outputId": "8f475396-0c0a-4885-8d36-a0ed6b3b13ea"
   },
   "outputs": [
    {
     "name": "stdout",
     "output_type": "stream",
     "text": [
      "[1. 1. 1. 1. 1.]\n"
     ]
    }
   ],
   "source": [
    "b = a.numpy()\n",
    "print(b)"
   ]
  },
  {
   "cell_type": "markdown",
   "metadata": {
    "id": "j-8hzE25sncF"
   },
   "source": [
    "NumPy 배열의 값이 어떻게 변하는지 확인해보세요.\n",
    "\n"
   ]
  },
  {
   "cell_type": "code",
   "execution_count": 19,
   "metadata": {
    "colab": {
     "base_uri": "https://localhost:8080/"
    },
    "executionInfo": {
     "elapsed": 20,
     "status": "ok",
     "timestamp": 1624256761669,
     "user": {
      "displayName": "ys Nam",
      "photoUrl": "",
      "userId": "07686574773364436479"
     },
     "user_tz": -540
    },
    "id": "Wsznw1eqsncF",
    "outputId": "3737979a-225e-4458-94b7-eb6b8ffd2243"
   },
   "outputs": [
    {
     "name": "stdout",
     "output_type": "stream",
     "text": [
      "tensor([2., 2., 2., 2., 2.])\n",
      "[2. 2. 2. 2. 2.]\n"
     ]
    }
   ],
   "source": [
    "a.add_(1)\n",
    "print(a)\n",
    "print(b)"
   ]
  },
  {
   "cell_type": "code",
   "execution_count": 20,
   "metadata": {
    "colab": {
     "base_uri": "https://localhost:8080/"
    },
    "executionInfo": {
     "elapsed": 18,
     "status": "ok",
     "timestamp": 1624256761669,
     "user": {
      "displayName": "ys Nam",
      "photoUrl": "",
      "userId": "07686574773364436479"
     },
     "user_tz": -540
    },
    "id": "BBFrx-f0QQil",
    "outputId": "c164cc40-0749-40af-cdb7-f52fff396e93"
   },
   "outputs": [
    {
     "name": "stdout",
     "output_type": "stream",
     "text": [
      "tensor([3., 3., 3., 3., 3.])\n",
      "[2. 2. 2. 2. 2.]\n"
     ]
    }
   ],
   "source": [
    "temp = a.clone()           # 깊은 복사\n",
    "temp_numpy = temp.numpy()\n",
    "\n",
    "a.add_(1)\n",
    "print(a)\n",
    "print(temp_numpy)"
   ]
  },
  {
   "cell_type": "markdown",
   "metadata": {
    "id": "pe446bKMsncH"
   },
   "source": [
    " - NumPy 배열을 Torch Tensor로 변환하기  \n",
    " \n",
    "NumPy(np) 배열을 변경하면 Torch Tensor의 값도 자동 변경되는 것을 확인해보세요.\n",
    "\n"
   ]
  },
  {
   "cell_type": "code",
   "execution_count": 21,
   "metadata": {
    "colab": {
     "base_uri": "https://localhost:8080/"
    },
    "executionInfo": {
     "elapsed": 18,
     "status": "ok",
     "timestamp": 1624256761670,
     "user": {
      "displayName": "ys Nam",
      "photoUrl": "",
      "userId": "07686574773364436479"
     },
     "user_tz": -540
    },
    "id": "1T3FiWWusncI",
    "outputId": "b1cd92bf-218f-455f-830c-6fe318d1477c"
   },
   "outputs": [
    {
     "name": "stdout",
     "output_type": "stream",
     "text": [
      "[1. 1. 1. 1. 1.]\n",
      "[2. 2. 2. 2. 2.]\n",
      "tensor([2., 2., 2., 2., 2.], dtype=torch.float64)\n"
     ]
    }
   ],
   "source": [
    "import numpy as np\n",
    "a = np.ones(5)\n",
    "print(a)\n",
    "b = torch.from_numpy(a)\n",
    "np.add(a, 1, out=a)\n",
    "print(a)\n",
    "print(b)\n"
   ]
  },
  {
   "cell_type": "markdown",
   "metadata": {
    "id": "dc7afeqWsncJ"
   },
   "source": [
    "CharTensor를 제외한 CPU 상의 모든 Tensor는 NumPy로의 변환을 지원하며, (NumPy에서 Tensor로의) 반대 변환도 지원합니다.\n",
    "\n",
    "CUDA Tensors\n",
    "------------\n",
    "\n",
    ".to 메소드를 사용하여 Tensor를 어떠한 장치로도 옮길 수 있습니다.\n",
    "\n"
   ]
  },
  {
   "cell_type": "code",
   "execution_count": 22,
   "metadata": {
    "colab": {
     "base_uri": "https://localhost:8080/"
    },
    "executionInfo": {
     "elapsed": 3668,
     "status": "ok",
     "timestamp": 1624256765323,
     "user": {
      "displayName": "ys Nam",
      "photoUrl": "",
      "userId": "07686574773364436479"
     },
     "user_tz": -540
    },
    "id": "9CcL3nDUsncK",
    "outputId": "d8602f7d-c237-47b9-a0df-5d8088a3753a"
   },
   "outputs": [
    {
     "name": "stdout",
     "output_type": "stream",
     "text": [
      "tensor([[1., 1., 1., 1.],\n",
      "        [1., 1., 1., 1.],\n",
      "        [1., 1., 1., 1.],\n",
      "        [1., 1., 1., 1.]], device='cuda:0')\n",
      "tensor([[1.6166, 1.9499, 1.4215, 1.4609],\n",
      "        [1.6785, 1.5331, 1.1779, 1.9606],\n",
      "        [1.6980, 1.6352, 1.7256, 1.7153],\n",
      "        [1.8737, 1.4967, 1.2076, 1.0988]], device='cuda:0')\n",
      "tensor([[1.6166, 1.9499, 1.4215, 1.4609],\n",
      "        [1.6785, 1.5331, 1.1779, 1.9606],\n",
      "        [1.6980, 1.6352, 1.7256, 1.7153],\n",
      "        [1.8737, 1.4967, 1.2076, 1.0988]], dtype=torch.float64)\n"
     ]
    }
   ],
   "source": [
    "import torch\n",
    "\n",
    "# 이 코드는 CUDA가 사용 가능한 환경에서만 실행합니다.\n",
    "# ``torch.device`` 를 사용하여 tensor를 GPU 안팎으로 이동해보겠습니다.\n",
    "\n",
    "x = torch.rand(4,4)\n",
    "if torch.cuda.is_available():\n",
    "    device = \"cuda:0\" # torch.device(\"cuda:0\")          # CUDA 장치 객체(device object)로\n",
    "    y = torch.ones_like(x, device=device)  # GPU 상에 직접적으로 tensor를 생성하거나\n",
    "    print(y)\n",
    "\n",
    "\n",
    "    x = x.to(device)                       # ``.to(\"cuda\")`` 를 사용하면 됩니다.\n",
    "    z = x + y                              # 자동으로 device(GPU) 장치 객체\n",
    "    print(z)\n",
    "    print(z.to(\"cpu\", torch.double))       # ``.to`` 는 dtype도 함께 변경합니다!"
   ]
  },
  {
   "cell_type": "code",
   "execution_count": 23,
   "metadata": {
    "executionInfo": {
     "elapsed": 12,
     "status": "ok",
     "timestamp": 1624256765324,
     "user": {
      "displayName": "ys Nam",
      "photoUrl": "",
      "userId": "07686574773364436479"
     },
     "user_tz": -540
    },
    "id": "eRUcwWN4yHzu"
   },
   "outputs": [],
   "source": [
    "x = x.cuda()     ## cpu에 있는 x를 gpu로 옮기기"
   ]
  }
 ],
 "metadata": {
  "accelerator": "GPU",
  "colab": {
   "collapsed_sections": [],
   "name": "[실습]02_PyTorch_기본연산.ipynb",
   "provenance": [
    {
     "file_id": "https://github.com/pytorch/tutorials/blob/gh-pages/_downloads/tensor_tutorial.ipynb",
     "timestamp": 1589251101092
    }
   ]
  },
  "kernelspec": {
   "display_name": "Python 3",
   "language": "python",
   "name": "python3"
  },
  "language_info": {
   "codemirror_mode": {
    "name": "ipython",
    "version": 3
   },
   "file_extension": ".py",
   "mimetype": "text/x-python",
   "name": "python",
   "nbconvert_exporter": "python",
   "pygments_lexer": "ipython3",
   "version": "3.9.4"
  }
 },
 "nbformat": 4,
 "nbformat_minor": 1
}
